{
 "cells": [
  {
   "cell_type": "code",
   "execution_count": 1,
   "id": "887a7262",
   "metadata": {},
   "outputs": [],
   "source": [
    "import pandas as pd"
   ]
  },
  {
   "cell_type": "code",
   "execution_count": 8,
   "id": "7c275118",
   "metadata": {},
   "outputs": [],
   "source": [
    "df = pd.read_excel('../ini_data/ini_data_processed.xlsx')\n",
    "df.columns = ['name', 'delivery_date', 'order_date', 'delivery_period', 'scheduled_delivery_period', 'region', 'quantity', 'price', 'pmt_term', 'non_scheduled', 'supplier', 'order_date_est', 'order_date_factual', 'name2', 'group']"
   ]
  },
  {
   "cell_type": "code",
   "execution_count": 9,
   "id": "79dffa73",
   "metadata": {},
   "outputs": [
    {
     "data": {
      "text/html": [
       "<div>\n",
       "<style scoped>\n",
       "    .dataframe tbody tr th:only-of-type {\n",
       "        vertical-align: middle;\n",
       "    }\n",
       "\n",
       "    .dataframe tbody tr th {\n",
       "        vertical-align: top;\n",
       "    }\n",
       "\n",
       "    .dataframe thead th {\n",
       "        text-align: right;\n",
       "    }\n",
       "</style>\n",
       "<table border=\"1\" class=\"dataframe\">\n",
       "  <thead>\n",
       "    <tr style=\"text-align: right;\">\n",
       "      <th></th>\n",
       "      <th>name</th>\n",
       "      <th>delivery_date</th>\n",
       "      <th>order_date</th>\n",
       "      <th>delivery_period</th>\n",
       "      <th>scheduled_delivery_period</th>\n",
       "      <th>region</th>\n",
       "      <th>quantity</th>\n",
       "      <th>price</th>\n",
       "      <th>pmt_term</th>\n",
       "      <th>non_scheduled</th>\n",
       "      <th>supplier</th>\n",
       "      <th>order_date_est</th>\n",
       "      <th>order_date_factual</th>\n",
       "      <th>name2</th>\n",
       "      <th>group</th>\n",
       "    </tr>\n",
       "  </thead>\n",
       "  <tbody>\n",
       "    <tr>\n",
       "      <th>0</th>\n",
       "      <td>ШКИВ К МПЭ-350-900 3536.19.00.200</td>\n",
       "      <td>2017-04-10</td>\n",
       "      <td>2015-06-09</td>\n",
       "      <td>671.0</td>\n",
       "      <td>210.0</td>\n",
       "      <td>Республика Карелия</td>\n",
       "      <td>1</td>\n",
       "      <td>3.839490e+04</td>\n",
       "      <td>ПОСЛЕДУЮЩАЯ ОПЛАТА 100% в течение 30 дней с да...</td>\n",
       "      <td>NaN</td>\n",
       "      <td>4011</td>\n",
       "      <td>2015-06-09</td>\n",
       "      <td>1.0</td>\n",
       "      <td>шкив к мпэ-350-900 3536-19-00-200</td>\n",
       "      <td>шкив</td>\n",
       "    </tr>\n",
       "    <tr>\n",
       "      <th>1</th>\n",
       "      <td>СТРЕЛА 1085.05.00СБ</td>\n",
       "      <td>2015-11-10</td>\n",
       "      <td>2015-08-03</td>\n",
       "      <td>99.0</td>\n",
       "      <td>180.0</td>\n",
       "      <td>Вологодская область</td>\n",
       "      <td>1</td>\n",
       "      <td>2.050955e+06</td>\n",
       "      <td>ПОСЛЕДУЮЩАЯ ОПЛАТА 100% в течение 60 дней с да...</td>\n",
       "      <td>NaN</td>\n",
       "      <td>3699</td>\n",
       "      <td>2015-08-03</td>\n",
       "      <td>1.0</td>\n",
       "      <td>стрела 1085-05-00сб</td>\n",
       "      <td>стрела</td>\n",
       "    </tr>\n",
       "    <tr>\n",
       "      <th>2</th>\n",
       "      <td>УСТРОЙСТВО КУЭ-3 04УХЛ2</td>\n",
       "      <td>2015-10-27</td>\n",
       "      <td>2015-08-03</td>\n",
       "      <td>85.0</td>\n",
       "      <td>150.0</td>\n",
       "      <td>Вологодская область</td>\n",
       "      <td>1</td>\n",
       "      <td>1.337580e+06</td>\n",
       "      <td>ПОСЛЕДУЮЩАЯ ОПЛАТА 100% в течение 60 дней с да...</td>\n",
       "      <td>NaN</td>\n",
       "      <td>3699</td>\n",
       "      <td>2015-08-03</td>\n",
       "      <td>1.0</td>\n",
       "      <td>устройство куэ-3 04ухл2</td>\n",
       "      <td>NaN</td>\n",
       "    </tr>\n",
       "    <tr>\n",
       "      <th>3</th>\n",
       "      <td>ВТУЛКА 1080.33.70</td>\n",
       "      <td>2015-08-31</td>\n",
       "      <td>2015-08-03</td>\n",
       "      <td>28.0</td>\n",
       "      <td>30.0</td>\n",
       "      <td>Вологодская область</td>\n",
       "      <td>6</td>\n",
       "      <td>3.439490e+03</td>\n",
       "      <td>ПОСЛЕДУЮЩАЯ ОПЛАТА 100% в течение 60 дней с да...</td>\n",
       "      <td>NaN</td>\n",
       "      <td>3699</td>\n",
       "      <td>2015-08-03</td>\n",
       "      <td>1.0</td>\n",
       "      <td>втулка 1080-33-70</td>\n",
       "      <td>втулка</td>\n",
       "    </tr>\n",
       "    <tr>\n",
       "      <th>4</th>\n",
       "      <td>ЗУБ КОВША 1085.52.05-1СБ НАПЛАВКА</td>\n",
       "      <td>2015-08-31</td>\n",
       "      <td>2015-08-03</td>\n",
       "      <td>28.0</td>\n",
       "      <td>75.0</td>\n",
       "      <td>Вологодская область</td>\n",
       "      <td>30</td>\n",
       "      <td>6.496815e+03</td>\n",
       "      <td>ПОСЛЕДУЮЩАЯ ОПЛАТА 100% в течение 60 дней с да...</td>\n",
       "      <td>NaN</td>\n",
       "      <td>3699</td>\n",
       "      <td>2015-08-03</td>\n",
       "      <td>1.0</td>\n",
       "      <td>зуб ковша 1085-52-05-1сб наплавка</td>\n",
       "      <td>зуб</td>\n",
       "    </tr>\n",
       "  </tbody>\n",
       "</table>\n",
       "</div>"
      ],
      "text/plain": [
       "                                name delivery_date order_date  \\\n",
       "0  ШКИВ К МПЭ-350-900 3536.19.00.200    2017-04-10 2015-06-09   \n",
       "1                СТРЕЛА 1085.05.00СБ    2015-11-10 2015-08-03   \n",
       "2            УСТРОЙСТВО КУЭ-3 04УХЛ2    2015-10-27 2015-08-03   \n",
       "3                  ВТУЛКА 1080.33.70    2015-08-31 2015-08-03   \n",
       "4  ЗУБ КОВША 1085.52.05-1СБ НАПЛАВКА    2015-08-31 2015-08-03   \n",
       "\n",
       "   delivery_period  scheduled_delivery_period               region  quantity  \\\n",
       "0            671.0                      210.0   Республика Карелия         1   \n",
       "1             99.0                      180.0  Вологодская область         1   \n",
       "2             85.0                      150.0  Вологодская область         1   \n",
       "3             28.0                       30.0  Вологодская область         6   \n",
       "4             28.0                       75.0  Вологодская область        30   \n",
       "\n",
       "          price                                           pmt_term  \\\n",
       "0  3.839490e+04  ПОСЛЕДУЮЩАЯ ОПЛАТА 100% в течение 30 дней с да...   \n",
       "1  2.050955e+06  ПОСЛЕДУЮЩАЯ ОПЛАТА 100% в течение 60 дней с да...   \n",
       "2  1.337580e+06  ПОСЛЕДУЮЩАЯ ОПЛАТА 100% в течение 60 дней с да...   \n",
       "3  3.439490e+03  ПОСЛЕДУЮЩАЯ ОПЛАТА 100% в течение 60 дней с да...   \n",
       "4  6.496815e+03  ПОСЛЕДУЮЩАЯ ОПЛАТА 100% в течение 60 дней с да...   \n",
       "\n",
       "   non_scheduled  supplier order_date_est  order_date_factual  \\\n",
       "0            NaN      4011     2015-06-09                 1.0   \n",
       "1            NaN      3699     2015-08-03                 1.0   \n",
       "2            NaN      3699     2015-08-03                 1.0   \n",
       "3            NaN      3699     2015-08-03                 1.0   \n",
       "4            NaN      3699     2015-08-03                 1.0   \n",
       "\n",
       "                               name2   group  \n",
       "0  шкив к мпэ-350-900 3536-19-00-200    шкив  \n",
       "1                стрела 1085-05-00сб  стрела  \n",
       "2            устройство куэ-3 04ухл2     NaN  \n",
       "3                  втулка 1080-33-70  втулка  \n",
       "4  зуб ковша 1085-52-05-1сб наплавка     зуб  "
      ]
     },
     "execution_count": 9,
     "metadata": {},
     "output_type": "execute_result"
    }
   ],
   "source": [
    "df.head()"
   ]
  },
  {
   "cell_type": "code",
   "execution_count": 31,
   "id": "09610604",
   "metadata": {},
   "outputs": [
    {
     "data": {
      "text/plain": [
       "name2\n",
       "зуб 1085-52-05-1               131\n",
       "колесо 3519-05-02-006           71\n",
       "вал 3536-11-01-002              57\n",
       "вал 3519-05-02-083              52\n",
       "коромысло 3519-21-00-023        48\n",
       "                              ... \n",
       "засов днища 3532-01-02-007      11\n",
       "рычаг 3711-01-02-050            11\n",
       "шестерня 3572-05-10-002         11\n",
       "шпилька 3546-03-04-003          11\n",
       "ось напорная 3546-03-04-002     11\n",
       "Name: name, Length: 75, dtype: int64"
      ]
     },
     "execution_count": 31,
     "metadata": {},
     "output_type": "execute_result"
    }
   ],
   "source": [
    "df_gr = df.groupby('name2').count()['name'].sort_values(ascending=False)\n",
    "df_gr_flt = df_gr[df_gr > 10]\n",
    "df_gr_flt"
   ]
  },
  {
   "cell_type": "code",
   "execution_count": 32,
   "id": "e7d07591",
   "metadata": {},
   "outputs": [
    {
     "data": {
      "text/plain": [
       "51.43283582089552"
      ]
     },
     "execution_count": 32,
     "metadata": {},
     "output_type": "execute_result"
    }
   ],
   "source": [
    "df_gr_gr = df.groupby('group').count()['name'].sort_values(ascending=False)\n",
    "df_gr_gr[df_gr_gr > 10].mean()"
   ]
  }
 ],
 "metadata": {
  "kernelspec": {
   "display_name": "Python 3 (ipykernel)",
   "language": "python",
   "name": "python3"
  },
  "language_info": {
   "codemirror_mode": {
    "name": "ipython",
    "version": 3
   },
   "file_extension": ".py",
   "mimetype": "text/x-python",
   "name": "python",
   "nbconvert_exporter": "python",
   "pygments_lexer": "ipython3",
   "version": "3.9.7"
  },
  "toc": {
   "base_numbering": 1,
   "nav_menu": {},
   "number_sections": true,
   "sideBar": true,
   "skip_h1_title": false,
   "title_cell": "Table of Contents",
   "title_sidebar": "Contents",
   "toc_cell": false,
   "toc_position": {},
   "toc_section_display": true,
   "toc_window_display": false
  },
  "varInspector": {
   "cols": {
    "lenName": 16,
    "lenType": 16,
    "lenVar": 40
   },
   "kernels_config": {
    "python": {
     "delete_cmd_postfix": "",
     "delete_cmd_prefix": "del ",
     "library": "var_list.py",
     "varRefreshCmd": "print(var_dic_list())"
    },
    "r": {
     "delete_cmd_postfix": ") ",
     "delete_cmd_prefix": "rm(",
     "library": "var_list.r",
     "varRefreshCmd": "cat(var_dic_list()) "
    }
   },
   "types_to_exclude": [
    "module",
    "function",
    "builtin_function_or_method",
    "instance",
    "_Feature"
   ],
   "window_display": false
  }
 },
 "nbformat": 4,
 "nbformat_minor": 5
}
