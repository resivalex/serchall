{
 "cells": [
  {
   "cell_type": "markdown",
   "id": "0c49da1e",
   "metadata": {},
   "source": [
    "Next steps:\n",
    "- use metal products price indexes like https://www.metalinfo.ru/ru/metalmarket/statistics and https://www.metaltorg.ru/analytics/black/?id=803\n",
    "\n",
    "Deliverables:\n",
    "- User interface including some plots. Just a number won't be enough, will inspire no confidence, plots will provide some support to the estimate."
   ]
  },
  {
   "cell_type": "markdown",
   "id": "7e25ca63",
   "metadata": {},
   "source": [
    "# Questions\n",
    "1. What could be of value given the data and the timeframe?\n",
    "2. Is the assumption on repeating price series representing single contract correct?"
   ]
  },
  {
   "cell_type": "code",
   "execution_count": 1,
   "id": "9a3c85d8",
   "metadata": {},
   "outputs": [],
   "source": [
    "import pandas as pd\n",
    "import numpy as np\n",
    "import xgboost as xg\n",
    "from sklearn.preprocessing import OneHotEncoder\n",
    "from sklearn.model_selection import train_test_split\n",
    "from datetime import datetime\n",
    "from sklearn.metrics import mean_squared_error as MSE\n",
    "import matplotlib.pyplot as plt"
   ]
  },
  {
   "cell_type": "markdown",
   "id": "addfceff",
   "metadata": {},
   "source": [
    "# Preprocessing"
   ]
  },
  {
   "cell_type": "code",
   "execution_count": 2,
   "id": "4fa8f9ea",
   "metadata": {
    "scrolled": true
   },
   "outputs": [
    {
     "data": {
      "text/html": [
       "<div>\n",
       "<style scoped>\n",
       "    .dataframe tbody tr th:only-of-type {\n",
       "        vertical-align: middle;\n",
       "    }\n",
       "\n",
       "    .dataframe tbody tr th {\n",
       "        vertical-align: top;\n",
       "    }\n",
       "\n",
       "    .dataframe thead th {\n",
       "        text-align: right;\n",
       "    }\n",
       "</style>\n",
       "<table border=\"1\" class=\"dataframe\">\n",
       "  <thead>\n",
       "    <tr style=\"text-align: right;\">\n",
       "      <th></th>\n",
       "      <th>Наименование</th>\n",
       "      <th>Дата поставки</th>\n",
       "      <th>Дата заказа</th>\n",
       "      <th>Срок поставки</th>\n",
       "      <th>Плановый срок поставки</th>\n",
       "      <th>Регион</th>\n",
       "      <th>Объем заказа</th>\n",
       "      <th>Цена, руб</th>\n",
       "      <th>Условия платежа</th>\n",
       "      <th>НРП - нерегламентная потребность (внеплановая закупка)</th>\n",
       "      <th>Поставщик</th>\n",
       "      <th>Расчетная дата заказа</th>\n",
       "      <th>Дата заказа фактическая</th>\n",
       "      <th>Наименование3</th>\n",
       "      <th>Группа</th>\n",
       "    </tr>\n",
       "  </thead>\n",
       "  <tbody>\n",
       "    <tr>\n",
       "      <th>0</th>\n",
       "      <td>ШКИВ К МПЭ-350-900 3536.19.00.200</td>\n",
       "      <td>2017-04-10</td>\n",
       "      <td>2015-06-09</td>\n",
       "      <td>671.0</td>\n",
       "      <td>210.0</td>\n",
       "      <td>Республика Карелия</td>\n",
       "      <td>1</td>\n",
       "      <td>3.839490e+04</td>\n",
       "      <td>ПОСЛЕДУЮЩАЯ ОПЛАТА 100% в течение 30 дней с да...</td>\n",
       "      <td>NaN</td>\n",
       "      <td>4011</td>\n",
       "      <td>2015-06-09</td>\n",
       "      <td>1.0</td>\n",
       "      <td>шкив к мпэ-350-900 3536-19-00-200</td>\n",
       "      <td>шкив</td>\n",
       "    </tr>\n",
       "    <tr>\n",
       "      <th>1</th>\n",
       "      <td>СТРЕЛА 1085.05.00СБ</td>\n",
       "      <td>2015-11-10</td>\n",
       "      <td>2015-08-03</td>\n",
       "      <td>99.0</td>\n",
       "      <td>180.0</td>\n",
       "      <td>Вологодская область</td>\n",
       "      <td>1</td>\n",
       "      <td>2.050955e+06</td>\n",
       "      <td>ПОСЛЕДУЮЩАЯ ОПЛАТА 100% в течение 60 дней с да...</td>\n",
       "      <td>NaN</td>\n",
       "      <td>3699</td>\n",
       "      <td>2015-08-03</td>\n",
       "      <td>1.0</td>\n",
       "      <td>стрела 1085-05-00сб</td>\n",
       "      <td>стрела</td>\n",
       "    </tr>\n",
       "    <tr>\n",
       "      <th>2</th>\n",
       "      <td>УСТРОЙСТВО КУЭ-3 04УХЛ2</td>\n",
       "      <td>2015-10-27</td>\n",
       "      <td>2015-08-03</td>\n",
       "      <td>85.0</td>\n",
       "      <td>150.0</td>\n",
       "      <td>Вологодская область</td>\n",
       "      <td>1</td>\n",
       "      <td>1.337580e+06</td>\n",
       "      <td>ПОСЛЕДУЮЩАЯ ОПЛАТА 100% в течение 60 дней с да...</td>\n",
       "      <td>NaN</td>\n",
       "      <td>3699</td>\n",
       "      <td>2015-08-03</td>\n",
       "      <td>1.0</td>\n",
       "      <td>устройство куэ-3 04ухл2</td>\n",
       "      <td>NaN</td>\n",
       "    </tr>\n",
       "    <tr>\n",
       "      <th>3</th>\n",
       "      <td>ВТУЛКА 1080.33.70</td>\n",
       "      <td>2015-08-31</td>\n",
       "      <td>2015-08-03</td>\n",
       "      <td>28.0</td>\n",
       "      <td>30.0</td>\n",
       "      <td>Вологодская область</td>\n",
       "      <td>6</td>\n",
       "      <td>3.439490e+03</td>\n",
       "      <td>ПОСЛЕДУЮЩАЯ ОПЛАТА 100% в течение 60 дней с да...</td>\n",
       "      <td>NaN</td>\n",
       "      <td>3699</td>\n",
       "      <td>2015-08-03</td>\n",
       "      <td>1.0</td>\n",
       "      <td>втулка 1080-33-70</td>\n",
       "      <td>втулка</td>\n",
       "    </tr>\n",
       "    <tr>\n",
       "      <th>4</th>\n",
       "      <td>ЗУБ КОВША 1085.52.05-1СБ НАПЛАВКА</td>\n",
       "      <td>2015-08-31</td>\n",
       "      <td>2015-08-03</td>\n",
       "      <td>28.0</td>\n",
       "      <td>75.0</td>\n",
       "      <td>Вологодская область</td>\n",
       "      <td>30</td>\n",
       "      <td>6.496815e+03</td>\n",
       "      <td>ПОСЛЕДУЮЩАЯ ОПЛАТА 100% в течение 60 дней с да...</td>\n",
       "      <td>NaN</td>\n",
       "      <td>3699</td>\n",
       "      <td>2015-08-03</td>\n",
       "      <td>1.0</td>\n",
       "      <td>зуб ковша 1085-52-05-1сб наплавка</td>\n",
       "      <td>зуб</td>\n",
       "    </tr>\n",
       "  </tbody>\n",
       "</table>\n",
       "</div>"
      ],
      "text/plain": [
       "                        Наименование Дата поставки Дата заказа  Срок поставки  \\\n",
       "0  ШКИВ К МПЭ-350-900 3536.19.00.200    2017-04-10  2015-06-09          671.0   \n",
       "1                СТРЕЛА 1085.05.00СБ    2015-11-10  2015-08-03           99.0   \n",
       "2            УСТРОЙСТВО КУЭ-3 04УХЛ2    2015-10-27  2015-08-03           85.0   \n",
       "3                  ВТУЛКА 1080.33.70    2015-08-31  2015-08-03           28.0   \n",
       "4  ЗУБ КОВША 1085.52.05-1СБ НАПЛАВКА    2015-08-31  2015-08-03           28.0   \n",
       "\n",
       "   Плановый срок поставки               Регион  Объем заказа     Цена, руб  \\\n",
       "0                   210.0   Республика Карелия             1  3.839490e+04   \n",
       "1                   180.0  Вологодская область             1  2.050955e+06   \n",
       "2                   150.0  Вологодская область             1  1.337580e+06   \n",
       "3                    30.0  Вологодская область             6  3.439490e+03   \n",
       "4                    75.0  Вологодская область            30  6.496815e+03   \n",
       "\n",
       "                                     Условия платежа  \\\n",
       "0  ПОСЛЕДУЮЩАЯ ОПЛАТА 100% в течение 30 дней с да...   \n",
       "1  ПОСЛЕДУЮЩАЯ ОПЛАТА 100% в течение 60 дней с да...   \n",
       "2  ПОСЛЕДУЮЩАЯ ОПЛАТА 100% в течение 60 дней с да...   \n",
       "3  ПОСЛЕДУЮЩАЯ ОПЛАТА 100% в течение 60 дней с да...   \n",
       "4  ПОСЛЕДУЮЩАЯ ОПЛАТА 100% в течение 60 дней с да...   \n",
       "\n",
       "   НРП - нерегламентная потребность (внеплановая закупка)  Поставщик  \\\n",
       "0                                                NaN            4011   \n",
       "1                                                NaN            3699   \n",
       "2                                                NaN            3699   \n",
       "3                                                NaN            3699   \n",
       "4                                                NaN            3699   \n",
       "\n",
       "  Расчетная дата заказа  Дата заказа фактическая  \\\n",
       "0            2015-06-09                      1.0   \n",
       "1            2015-08-03                      1.0   \n",
       "2            2015-08-03                      1.0   \n",
       "3            2015-08-03                      1.0   \n",
       "4            2015-08-03                      1.0   \n",
       "\n",
       "                       Наименование3  Группа  \n",
       "0  шкив к мпэ-350-900 3536-19-00-200    шкив  \n",
       "1                стрела 1085-05-00сб  стрела  \n",
       "2            устройство куэ-3 04ухл2     NaN  \n",
       "3                  втулка 1080-33-70  втулка  \n",
       "4  зуб ковша 1085-52-05-1сб наплавка     зуб  "
      ]
     },
     "execution_count": 2,
     "metadata": {},
     "output_type": "execute_result"
    }
   ],
   "source": [
    "df = pd.read_excel('../ini_data/ini_data_processed.xlsx')\n",
    "df.head()"
   ]
  },
  {
   "cell_type": "code",
   "execution_count": 3,
   "id": "89993152",
   "metadata": {
    "scrolled": true
   },
   "outputs": [
    {
     "data": {
      "text/html": [
       "<div>\n",
       "<style scoped>\n",
       "    .dataframe tbody tr th:only-of-type {\n",
       "        vertical-align: middle;\n",
       "    }\n",
       "\n",
       "    .dataframe tbody tr th {\n",
       "        vertical-align: top;\n",
       "    }\n",
       "\n",
       "    .dataframe thead th {\n",
       "        text-align: right;\n",
       "    }\n",
       "</style>\n",
       "<table border=\"1\" class=\"dataframe\">\n",
       "  <thead>\n",
       "    <tr style=\"text-align: right;\">\n",
       "      <th></th>\n",
       "      <th>name</th>\n",
       "      <th>delivery_date</th>\n",
       "      <th>order_date</th>\n",
       "      <th>delivery_period</th>\n",
       "      <th>scheduled_delivery_period</th>\n",
       "      <th>region</th>\n",
       "      <th>quantity</th>\n",
       "      <th>price</th>\n",
       "      <th>pmt_term</th>\n",
       "      <th>non_scheduled</th>\n",
       "      <th>supplier</th>\n",
       "      <th>order_date_est</th>\n",
       "      <th>order_date_factual</th>\n",
       "      <th>name2</th>\n",
       "      <th>group</th>\n",
       "    </tr>\n",
       "  </thead>\n",
       "  <tbody>\n",
       "    <tr>\n",
       "      <th>0</th>\n",
       "      <td>ШКИВ К МПЭ-350-900 3536.19.00.200</td>\n",
       "      <td>2017-04-10</td>\n",
       "      <td>2015-06-09</td>\n",
       "      <td>671.0</td>\n",
       "      <td>210.0</td>\n",
       "      <td>Республика Карелия</td>\n",
       "      <td>1</td>\n",
       "      <td>3.839490e+04</td>\n",
       "      <td>ПОСЛЕДУЮЩАЯ ОПЛАТА 100% в течение 30 дней с да...</td>\n",
       "      <td>NaN</td>\n",
       "      <td>4011</td>\n",
       "      <td>2015-06-09</td>\n",
       "      <td>1.0</td>\n",
       "      <td>шкив к мпэ-350-900 3536-19-00-200</td>\n",
       "      <td>шкив</td>\n",
       "    </tr>\n",
       "    <tr>\n",
       "      <th>1</th>\n",
       "      <td>СТРЕЛА 1085.05.00СБ</td>\n",
       "      <td>2015-11-10</td>\n",
       "      <td>2015-08-03</td>\n",
       "      <td>99.0</td>\n",
       "      <td>180.0</td>\n",
       "      <td>Вологодская область</td>\n",
       "      <td>1</td>\n",
       "      <td>2.050955e+06</td>\n",
       "      <td>ПОСЛЕДУЮЩАЯ ОПЛАТА 100% в течение 60 дней с да...</td>\n",
       "      <td>NaN</td>\n",
       "      <td>3699</td>\n",
       "      <td>2015-08-03</td>\n",
       "      <td>1.0</td>\n",
       "      <td>стрела 1085-05-00сб</td>\n",
       "      <td>стрела</td>\n",
       "    </tr>\n",
       "    <tr>\n",
       "      <th>2</th>\n",
       "      <td>УСТРОЙСТВО КУЭ-3 04УХЛ2</td>\n",
       "      <td>2015-10-27</td>\n",
       "      <td>2015-08-03</td>\n",
       "      <td>85.0</td>\n",
       "      <td>150.0</td>\n",
       "      <td>Вологодская область</td>\n",
       "      <td>1</td>\n",
       "      <td>1.337580e+06</td>\n",
       "      <td>ПОСЛЕДУЮЩАЯ ОПЛАТА 100% в течение 60 дней с да...</td>\n",
       "      <td>NaN</td>\n",
       "      <td>3699</td>\n",
       "      <td>2015-08-03</td>\n",
       "      <td>1.0</td>\n",
       "      <td>устройство куэ-3 04ухл2</td>\n",
       "      <td>NaN</td>\n",
       "    </tr>\n",
       "    <tr>\n",
       "      <th>3</th>\n",
       "      <td>ВТУЛКА 1080.33.70</td>\n",
       "      <td>2015-08-31</td>\n",
       "      <td>2015-08-03</td>\n",
       "      <td>28.0</td>\n",
       "      <td>30.0</td>\n",
       "      <td>Вологодская область</td>\n",
       "      <td>6</td>\n",
       "      <td>3.439490e+03</td>\n",
       "      <td>ПОСЛЕДУЮЩАЯ ОПЛАТА 100% в течение 60 дней с да...</td>\n",
       "      <td>NaN</td>\n",
       "      <td>3699</td>\n",
       "      <td>2015-08-03</td>\n",
       "      <td>1.0</td>\n",
       "      <td>втулка 1080-33-70</td>\n",
       "      <td>втулка</td>\n",
       "    </tr>\n",
       "    <tr>\n",
       "      <th>4</th>\n",
       "      <td>ЗУБ КОВША 1085.52.05-1СБ НАПЛАВКА</td>\n",
       "      <td>2015-08-31</td>\n",
       "      <td>2015-08-03</td>\n",
       "      <td>28.0</td>\n",
       "      <td>75.0</td>\n",
       "      <td>Вологодская область</td>\n",
       "      <td>30</td>\n",
       "      <td>6.496815e+03</td>\n",
       "      <td>ПОСЛЕДУЮЩАЯ ОПЛАТА 100% в течение 60 дней с да...</td>\n",
       "      <td>NaN</td>\n",
       "      <td>3699</td>\n",
       "      <td>2015-08-03</td>\n",
       "      <td>1.0</td>\n",
       "      <td>зуб ковша 1085-52-05-1сб наплавка</td>\n",
       "      <td>зуб</td>\n",
       "    </tr>\n",
       "  </tbody>\n",
       "</table>\n",
       "</div>"
      ],
      "text/plain": [
       "                                name delivery_date order_date  \\\n",
       "0  ШКИВ К МПЭ-350-900 3536.19.00.200    2017-04-10 2015-06-09   \n",
       "1                СТРЕЛА 1085.05.00СБ    2015-11-10 2015-08-03   \n",
       "2            УСТРОЙСТВО КУЭ-3 04УХЛ2    2015-10-27 2015-08-03   \n",
       "3                  ВТУЛКА 1080.33.70    2015-08-31 2015-08-03   \n",
       "4  ЗУБ КОВША 1085.52.05-1СБ НАПЛАВКА    2015-08-31 2015-08-03   \n",
       "\n",
       "   delivery_period  scheduled_delivery_period               region  quantity  \\\n",
       "0            671.0                      210.0   Республика Карелия         1   \n",
       "1             99.0                      180.0  Вологодская область         1   \n",
       "2             85.0                      150.0  Вологодская область         1   \n",
       "3             28.0                       30.0  Вологодская область         6   \n",
       "4             28.0                       75.0  Вологодская область        30   \n",
       "\n",
       "          price                                           pmt_term  \\\n",
       "0  3.839490e+04  ПОСЛЕДУЮЩАЯ ОПЛАТА 100% в течение 30 дней с да...   \n",
       "1  2.050955e+06  ПОСЛЕДУЮЩАЯ ОПЛАТА 100% в течение 60 дней с да...   \n",
       "2  1.337580e+06  ПОСЛЕДУЮЩАЯ ОПЛАТА 100% в течение 60 дней с да...   \n",
       "3  3.439490e+03  ПОСЛЕДУЮЩАЯ ОПЛАТА 100% в течение 60 дней с да...   \n",
       "4  6.496815e+03  ПОСЛЕДУЮЩАЯ ОПЛАТА 100% в течение 60 дней с да...   \n",
       "\n",
       "   non_scheduled  supplier order_date_est  order_date_factual  \\\n",
       "0            NaN      4011     2015-06-09                 1.0   \n",
       "1            NaN      3699     2015-08-03                 1.0   \n",
       "2            NaN      3699     2015-08-03                 1.0   \n",
       "3            NaN      3699     2015-08-03                 1.0   \n",
       "4            NaN      3699     2015-08-03                 1.0   \n",
       "\n",
       "                               name2   group  \n",
       "0  шкив к мпэ-350-900 3536-19-00-200    шкив  \n",
       "1                стрела 1085-05-00сб  стрела  \n",
       "2            устройство куэ-3 04ухл2     NaN  \n",
       "3                  втулка 1080-33-70  втулка  \n",
       "4  зуб ковша 1085-52-05-1сб наплавка     зуб  "
      ]
     },
     "execution_count": 3,
     "metadata": {},
     "output_type": "execute_result"
    }
   ],
   "source": [
    "df.columns = ['name', 'delivery_date', 'order_date', 'delivery_period', 'scheduled_delivery_period', 'region', 'quantity', 'price', 'pmt_term', 'non_scheduled', 'supplier', 'order_date_est', 'order_date_factual', 'name2', 'group']\n",
    "df.head()"
   ]
  },
  {
   "cell_type": "code",
   "execution_count": 4,
   "id": "2cdecccc",
   "metadata": {},
   "outputs": [],
   "source": [
    "df.sort_values('order_date_est', ascending=True, inplace=True)"
   ]
  },
  {
   "cell_type": "code",
   "execution_count": 5,
   "id": "134db4e4",
   "metadata": {},
   "outputs": [],
   "source": [
    "df.drop(columns=['delivery_date', 'delivery_period', 'pmt_term', 'name', 'order_date'], inplace=True)"
   ]
  },
  {
   "cell_type": "code",
   "execution_count": 6,
   "id": "96623baf",
   "metadata": {},
   "outputs": [],
   "source": [
    "df.non_scheduled = df.non_scheduled.fillna(0)"
   ]
  },
  {
   "cell_type": "code",
   "execution_count": 7,
   "id": "e3564579",
   "metadata": {},
   "outputs": [],
   "source": [
    "df = df[df.order_date_est.notnull()]"
   ]
  },
  {
   "cell_type": "code",
   "execution_count": 8,
   "id": "f5a8c5c9",
   "metadata": {},
   "outputs": [],
   "source": [
    "df.order_date_est = df.order_date_est.apply(lambda d: int(round(d.timestamp()) / 100))\n",
    "df.order_date_est = df.order_date_est.apply(lambda d: d - df.order_date_est.min())"
   ]
  },
  {
   "cell_type": "code",
   "execution_count": 9,
   "id": "57f7c16b",
   "metadata": {
    "scrolled": true
   },
   "outputs": [
    {
     "name": "stdout",
     "output_type": "stream",
     "text": [
      "<class 'pandas.core.frame.DataFrame'>\n",
      "Int64Index: 3986 entries, 0 to 2948\n",
      "Data columns (total 10 columns):\n",
      " #   Column                     Non-Null Count  Dtype  \n",
      "---  ------                     --------------  -----  \n",
      " 0   scheduled_delivery_period  3986 non-null   float64\n",
      " 1   region                     3986 non-null   object \n",
      " 2   quantity                   3986 non-null   int64  \n",
      " 3   price                      3986 non-null   float64\n",
      " 4   non_scheduled              3986 non-null   float64\n",
      " 5   supplier                   3986 non-null   int64  \n",
      " 6   order_date_est             3986 non-null   int64  \n",
      " 7   order_date_factual         3986 non-null   float64\n",
      " 8   name2                      3986 non-null   object \n",
      " 9   group                      3622 non-null   object \n",
      "dtypes: float64(4), int64(3), object(3)\n",
      "memory usage: 342.5+ KB\n"
     ]
    }
   ],
   "source": [
    "df.info()"
   ]
  },
  {
   "cell_type": "code",
   "execution_count": 10,
   "id": "817c8bb6",
   "metadata": {},
   "outputs": [
    {
     "data": {
      "text/plain": [
       "name2\n",
       "зуб 1085-52-05-1                        131\n",
       "колесо 3519-05-02-006                    71\n",
       "вал 3536-11-01-002                       57\n",
       "вал 3519-05-02-083                       52\n",
       "коромысло 3519-21-00-023                 48\n",
       "                                       ... \n",
       "колесо зубч 3536-08-01-300                6\n",
       "накладка межзуб 3711-33-00-001            6\n",
       "подшипник седловой 3546-03-04-000-03      6\n",
       "колесо натяжное 3712-05-02-300-03         6\n",
       "колесо 3536-10-01-250                     6\n",
       "Name: quantity, Length: 185, dtype: int64"
      ]
     },
     "execution_count": 10,
     "metadata": {},
     "output_type": "execute_result"
    }
   ],
   "source": [
    "min_count = 5\n",
    "filtered_names = df.groupby('name2').count()['quantity'].sort_values(ascending=False)\n",
    "filtered_names = filtered_names[filtered_names > min_count]\n",
    "filtered_names"
   ]
  },
  {
   "cell_type": "code",
   "execution_count": 11,
   "id": "2dd2c95f",
   "metadata": {},
   "outputs": [
    {
     "data": {
      "text/html": [
       "<div>\n",
       "<style scoped>\n",
       "    .dataframe tbody tr th:only-of-type {\n",
       "        vertical-align: middle;\n",
       "    }\n",
       "\n",
       "    .dataframe tbody tr th {\n",
       "        vertical-align: top;\n",
       "    }\n",
       "\n",
       "    .dataframe thead th {\n",
       "        text-align: right;\n",
       "    }\n",
       "</style>\n",
       "<table border=\"1\" class=\"dataframe\">\n",
       "  <thead>\n",
       "    <tr style=\"text-align: right;\">\n",
       "      <th></th>\n",
       "      <th>scheduled_delivery_period</th>\n",
       "      <th>region</th>\n",
       "      <th>quantity</th>\n",
       "      <th>price</th>\n",
       "      <th>non_scheduled</th>\n",
       "      <th>supplier</th>\n",
       "      <th>order_date_est</th>\n",
       "      <th>order_date_factual</th>\n",
       "      <th>name2</th>\n",
       "      <th>group</th>\n",
       "    </tr>\n",
       "  </thead>\n",
       "  <tbody>\n",
       "    <tr>\n",
       "      <th>17</th>\n",
       "      <td>120.0</td>\n",
       "      <td>Вологодская область</td>\n",
       "      <td>2</td>\n",
       "      <td>57324.840764</td>\n",
       "      <td>0.0</td>\n",
       "      <td>3699</td>\n",
       "      <td>47520</td>\n",
       "      <td>1.0</td>\n",
       "      <td>рейка зубч 1080-04-114-1 кремальерная</td>\n",
       "      <td>рейка</td>\n",
       "    </tr>\n",
       "    <tr>\n",
       "      <th>16</th>\n",
       "      <td>120.0</td>\n",
       "      <td>Вологодская область</td>\n",
       "      <td>2</td>\n",
       "      <td>57324.840764</td>\n",
       "      <td>0.0</td>\n",
       "      <td>3699</td>\n",
       "      <td>47520</td>\n",
       "      <td>1.0</td>\n",
       "      <td>рейка зубч 1080-04-114-1 кремальерная</td>\n",
       "      <td>рейка</td>\n",
       "    </tr>\n",
       "    <tr>\n",
       "      <th>15</th>\n",
       "      <td>120.0</td>\n",
       "      <td>Вологодская область</td>\n",
       "      <td>2</td>\n",
       "      <td>57324.840764</td>\n",
       "      <td>0.0</td>\n",
       "      <td>3699</td>\n",
       "      <td>47520</td>\n",
       "      <td>1.0</td>\n",
       "      <td>рейка зубч 1080-04-114-1 кремальерная</td>\n",
       "      <td>рейка</td>\n",
       "    </tr>\n",
       "    <tr>\n",
       "      <th>12</th>\n",
       "      <td>140.0</td>\n",
       "      <td>Вологодская область</td>\n",
       "      <td>5</td>\n",
       "      <td>5732.484076</td>\n",
       "      <td>0.0</td>\n",
       "      <td>3699</td>\n",
       "      <td>47520</td>\n",
       "      <td>1.0</td>\n",
       "      <td>зуб ковша 1080-02-10 наплавка</td>\n",
       "      <td>зуб</td>\n",
       "    </tr>\n",
       "    <tr>\n",
       "      <th>11</th>\n",
       "      <td>140.0</td>\n",
       "      <td>Вологодская область</td>\n",
       "      <td>5</td>\n",
       "      <td>5732.484076</td>\n",
       "      <td>0.0</td>\n",
       "      <td>3699</td>\n",
       "      <td>47520</td>\n",
       "      <td>1.0</td>\n",
       "      <td>зуб ковша 1080-02-10 наплавка</td>\n",
       "      <td>зуб</td>\n",
       "    </tr>\n",
       "  </tbody>\n",
       "</table>\n",
       "</div>"
      ],
      "text/plain": [
       "    scheduled_delivery_period               region  quantity         price  \\\n",
       "17                      120.0  Вологодская область         2  57324.840764   \n",
       "16                      120.0  Вологодская область         2  57324.840764   \n",
       "15                      120.0  Вологодская область         2  57324.840764   \n",
       "12                      140.0  Вологодская область         5   5732.484076   \n",
       "11                      140.0  Вологодская область         5   5732.484076   \n",
       "\n",
       "    non_scheduled  supplier  order_date_est  order_date_factual  \\\n",
       "17            0.0      3699           47520                 1.0   \n",
       "16            0.0      3699           47520                 1.0   \n",
       "15            0.0      3699           47520                 1.0   \n",
       "12            0.0      3699           47520                 1.0   \n",
       "11            0.0      3699           47520                 1.0   \n",
       "\n",
       "                                    name2  group  \n",
       "17  рейка зубч 1080-04-114-1 кремальерная  рейка  \n",
       "16  рейка зубч 1080-04-114-1 кремальерная  рейка  \n",
       "15  рейка зубч 1080-04-114-1 кремальерная  рейка  \n",
       "12          зуб ковша 1080-02-10 наплавка    зуб  \n",
       "11          зуб ковша 1080-02-10 наплавка    зуб  "
      ]
     },
     "execution_count": 11,
     "metadata": {},
     "output_type": "execute_result"
    }
   ],
   "source": [
    "df_flt = df[df.name2.isin(filtered_names.index)]\n",
    "df_flt.head()"
   ]
  },
  {
   "cell_type": "markdown",
   "id": "163ec34f",
   "metadata": {},
   "source": [
    "# EDA"
   ]
  },
  {
   "cell_type": "code",
   "execution_count": 4,
   "id": "c8e046d3",
   "metadata": {},
   "outputs": [],
   "source": [
    "df.sort_values('order_date_est', ascending=True, inplace=True)\n",
    "df.drop(columns=['delivery_date', 'delivery_period', 'pmt_term', 'name', 'order_date'], inplace=True)\n",
    "df.non_scheduled = df.non_scheduled.fillna(0)\n",
    "df = df[df.order_date_est.notnull()]\n",
    "df.order_date_est = df.order_date_est.apply(lambda d: int(round(d.timestamp()) / 100))\n",
    "df.order_date_est = df.order_date_est.apply(lambda d: d - df.order_date_est.min())\n",
    "\n",
    "min_count = 5\n",
    "filtered_names = df.groupby('name2').count()['quantity'].sort_values(ascending=False)\n",
    "filtered_names = filtered_names[filtered_names > min_count]\n",
    "\n",
    "df_flt = df[df.name2.isin(filtered_names.index)]"
   ]
  },
  {
   "cell_type": "markdown",
   "id": "329f60f1",
   "metadata": {},
   "source": [
    "## EDA"
   ]
  },
  {
   "cell_type": "code",
   "execution_count": 12,
   "id": "76b8736a",
   "metadata": {},
   "outputs": [
    {
     "data": {
      "image/png": "[encoded data removed]",
      "text/plain": [
       "<Figure size 2160x1080 with 24 Axes>"
      ]
     },
     "metadata": {},
     "output_type": "display_data"
    }
   ],
   "source": [
    "from random import randint\n",
    "names = df_flt.name2.unique()\n",
    "n_names = len(names)\n",
    "N, M = 4, 6\n",
    "fig, axes = plt.subplots(nrows=N, ncols=M, figsize=(30, 15))\n",
    "\n",
    "for ax in axes.flatten():\n",
    "    name_no = randint(0, n_names-1)\n",
    "    name = names[name_no]\n",
    "    ch_data = df_flt.price[df_flt.name2==name]\n",
    "    ax.plot(ch_data.index, ch_data.values, 'ro')\n",
    "    ax.title.set_text(f\"{name}, {str(len(ch_data))} points\")\n",
    "plt.show()"
   ]
  },
  {
   "cell_type": "code",
   "execution_count": 13,
   "id": "f7e65ea0",
   "metadata": {},
   "outputs": [
    {
     "name": "stdout",
     "output_type": "stream",
     "text": [
      "<class 'pandas.core.frame.DataFrame'>\n",
      "Int64Index: 2520 entries, 17 to 2948\n",
      "Data columns (total 10 columns):\n",
      " #   Column                     Non-Null Count  Dtype  \n",
      "---  ------                     --------------  -----  \n",
      " 0   scheduled_delivery_period  2520 non-null   float64\n",
      " 1   region                     2520 non-null   object \n",
      " 2   quantity                   2520 non-null   int64  \n",
      " 3   price                      2520 non-null   float64\n",
      " 4   non_scheduled              2520 non-null   float64\n",
      " 5   supplier                   2520 non-null   int64  \n",
      " 6   order_date_est             2520 non-null   int64  \n",
      " 7   order_date_factual         2520 non-null   float64\n",
      " 8   name2                      2520 non-null   object \n",
      " 9   group                      2378 non-null   object \n",
      "dtypes: float64(4), int64(3), object(3)\n",
      "memory usage: 216.6+ KB\n"
     ]
    }
   ],
   "source": [
    "df_flt.info()"
   ]
  },
  {
   "cell_type": "code",
   "execution_count": 14,
   "id": "2bd49667",
   "metadata": {},
   "outputs": [
    {
     "data": {
      "image/png": "[encoded data removed]",
      "text/plain": [
       "<Figure size 432x288 with 1 Axes>"
      ]
     },
     "metadata": {},
     "output_type": "display_data"
    }
   ],
   "source": [
    "df_flt.groupby('name2').count().region.hist(bins=20);"
   ]
  },
  {
   "cell_type": "markdown",
   "id": "b9b3e9e9",
   "metadata": {},
   "source": [
    "## The Longest Series"
   ]
  },
  {
   "cell_type": "code",
   "execution_count": 15,
   "id": "0eaf9412",
   "metadata": {},
   "outputs": [
    {
     "data": {
      "image/png": "[encoded data removed]",
      "text/plain": [
       "<Figure size 432x288 with 1 Axes>"
      ]
     },
     "metadata": {},
     "output_type": "display_data"
    }
   ],
   "source": [
    "# group series' length histogram \n",
    "df_flt[df_flt.group.notnull()].groupby('group').count().quantity.hist(bins=20);"
   ]
  },
  {
   "cell_type": "code",
   "execution_count": 16,
   "id": "cc0c384a",
   "metadata": {
    "scrolled": false
   },
   "outputs": [
    {
     "data": {
      "image/png": "[encoded data removed]",
      "text/plain": [
       "<Figure size 1440x360 with 1 Axes>"
      ]
     },
     "metadata": {},
     "output_type": "display_data"
    },
    {
     "data": {
      "image/png": "[encoded data removed]",
      "text/plain": [
       "<Figure size 1440x360 with 1 Axes>"
      ]
     },
     "metadata": {},
     "output_type": "display_data"
    },
    {
     "data": {
      "image/png": "[encoded data removed]",
      "text/plain": [
       "<Figure size 1440x360 with 1 Axes>"
      ]
     },
     "metadata": {},
     "output_type": "display_data"
    }
   ],
   "source": [
    "for i in range(3):\n",
    "    name = df_flt.groupby('name2').count().region.sort_values(ascending=False).index[i]\n",
    "    series = df[df.name2==name][['order_date_est', 'price']].sort_values('order_date_est', ascending=True)\n",
    "\n",
    "    plt.figure(figsize=(20, 5))\n",
    "    plt.plot(series.order_date_est, series.price, 'r.')\n",
    "    plt.title(f\"The {i+1} series: {name}, {len(series)} points, {series.price.nunique()} unique values\")\n",
    "    plt.xticks(rotation=90)\n",
    "    plt.show"
   ]
  },
  {
   "cell_type": "markdown",
   "id": "4579ff51",
   "metadata": {},
   "source": [
    "Looks like for many contracts there are multiple orders with the same price.\n",
    "\n",
    "Therefore its not the order prices that need to be predicted, its contract prices."
   ]
  },
  {
   "cell_type": "markdown",
   "id": "cd1edbca",
   "metadata": {},
   "source": [
    "## Transition From Orders To Contracts"
   ]
  },
  {
   "cell_type": "code",
   "execution_count": 17,
   "id": "df5e908c",
   "metadata": {},
   "outputs": [],
   "source": [
    "names = df_flt.name2.unique()\n",
    "df_contracts = df_flt.copy()\n",
    "drop_idxs = []\n",
    "\n",
    "for name in names:\n",
    "    prices = []\n",
    "    flt = df_flt[df_flt.name2==name]\n",
    "    \n",
    "    for i, row in flt.iterrows():\n",
    "    #     import pdb; pdb.set_trace()\n",
    "        if row.price in prices:\n",
    "            drop_idxs.append(i)\n",
    "        else:\n",
    "            prices.append(row.price)\n",
    "            \n",
    "df_contracts.drop(index=drop_idxs, inplace=True)"
   ]
  },
  {
   "cell_type": "code",
   "execution_count": 18,
   "id": "0a58ea45",
   "metadata": {
    "cell_style": "split"
   },
   "outputs": [
    {
     "data": {
      "image/png": "[encoded data removed]",
      "text/plain": [
       "<Figure size 432x288 with 1 Axes>"
      ]
     },
     "metadata": {},
     "output_type": "display_data"
    }
   ],
   "source": [
    "df.groupby('name2').count().region.hist(bins=20);"
   ]
  },
  {
   "cell_type": "code",
   "execution_count": 19,
   "id": "78c2c8fa",
   "metadata": {
    "cell_style": "split"
   },
   "outputs": [
    {
     "data": {
      "image/png": "[encoded data removed]",
      "text/plain": [
       "<Figure size 432x288 with 1 Axes>"
      ]
     },
     "metadata": {},
     "output_type": "display_data"
    }
   ],
   "source": [
    "df_contracts.groupby('name2').count().region.hist(bins=20);"
   ]
  },
  {
   "cell_type": "code",
   "execution_count": 20,
   "id": "ed6b68c3",
   "metadata": {},
   "outputs": [
    {
     "data": {
      "image/png": "[encoded data removed]",
      "text/plain": [
       "<Figure size 432x288 with 1 Axes>"
      ]
     },
     "metadata": {},
     "output_type": "display_data"
    }
   ],
   "source": [
    "df_contracts.groupby('group').count().region.hist(bins=20);"
   ]
  },
  {
   "cell_type": "code",
   "execution_count": 21,
   "id": "63a79b2e",
   "metadata": {},
   "outputs": [
    {
     "data": {
      "text/plain": [
       "group\n",
       "вал        84\n",
       "втулка     45\n",
       "колесо    120\n",
       "ось        67\n",
       "Name: region, dtype: int64"
      ]
     },
     "execution_count": 21,
     "metadata": {},
     "output_type": "execute_result"
    }
   ],
   "source": [
    "longs_names = df_contracts.groupby('group').count().region\n",
    "thresh = 40\n",
    "longs_names = longs_names[longs_names.values > thresh]\n",
    "longs_names"
   ]
  },
  {
   "cell_type": "code",
   "execution_count": 42,
   "id": "ead15f92",
   "metadata": {},
   "outputs": [
    {
     "data": {
      "image/png": "[encoded data removed]",
      "text/plain": [
       "<Figure size 432x288 with 1 Axes>"
      ]
     },
     "metadata": {},
     "output_type": "display_data"
    }
   ],
   "source": [
    "longest_series_name = df_flt.groupby('name2').count().region.sort_values(ascending=False).index[0]\n",
    "ch_data = df_contracts[df_contracts.name2==longest_series_name].price\n",
    "plt.plot(ch_data.index, ch_data.values, 'ro')\n",
    "plt.title(longest_series_name)\n",
    "lims = plt.axis()\n",
    "plt.axis((lims[0], lims[1], 0, lims[3]));"
   ]
  },
  {
   "cell_type": "markdown",
   "id": "46e7b3fb",
   "metadata": {},
   "source": [
    "This chart cannot be predicted accurately."
   ]
  },
  {
   "cell_type": "markdown",
   "id": "3de99adb",
   "metadata": {},
   "source": [
    "### Conclusion\n",
    "After cleaning repeated prices no single item series is long enough for time series prediction.\n",
    "\n",
    "There are 3 options:\n",
    "\n",
    "1. Group by `group` and work with a few longest series using time-series analysis.\n",
    "2. Use `order_date` as a feature and apply regular regression models.\n",
    "3. Impute missing datapoints.\n",
    "\n",
    "The odds are that 2nd option won't be able to predict consistently for new contracts if the last price date is long in the past.  \n",
    "Need to study appicable approaches more before deciding on it.\n",
    "\n",
    "Will try 1st option for now.\n",
    "\n",
    "Option 3 is also worth trying. Will do it 2nd."
   ]
  },
  {
   "cell_type": "markdown",
   "id": "9cb7a84e",
   "metadata": {},
   "source": [
    "TODO: Look into irregular time series regression technics"
   ]
  },
  {
   "cell_type": "markdown",
   "id": "5aacfa28",
   "metadata": {},
   "source": [
    "TODO: Try different lead periods for all macro indicators or different lead times for different indicators."
   ]
  },
  {
   "cell_type": "markdown",
   "id": "45201290",
   "metadata": {},
   "source": [
    "## Overall Price Index"
   ]
  },
  {
   "cell_type": "code",
   "execution_count": 23,
   "id": "01162c88",
   "metadata": {},
   "outputs": [],
   "source": [
    "frequencies = df_contracts.groupby('name2').count().region.sort_values()\n",
    "freqs2 = frequencies[frequencies.values>1]"
   ]
  },
  {
   "cell_type": "code",
   "execution_count": 24,
   "id": "5bc36da4",
   "metadata": {
    "scrolled": true
   },
   "outputs": [
    {
     "data": {
      "text/plain": [
       "name2\n",
       "втулка 1080-33-18-1          2\n",
       "втулка 3546-03-01-008        2\n",
       "втулка 1080-33-81            2\n",
       "палец 00-3712-ур20км         2\n",
       "втулка 1080-05-312           2\n",
       "                            ..\n",
       "вал трмз 3519-05-02-007     10\n",
       "вал 3536-11-01-002          11\n",
       "вал 3519-05-02-083          11\n",
       "колесо 3519-05-02-006       13\n",
       "коромысло 3519-21-00-023    15\n",
       "Name: region, Length: 175, dtype: int64"
      ]
     },
     "execution_count": 24,
     "metadata": {},
     "output_type": "execute_result"
    }
   ],
   "source": [
    "freqs2"
   ]
  },
  {
   "cell_type": "markdown",
   "id": "3a503d5f",
   "metadata": {},
   "source": [
    "TODO: try use series longer then 3 or more to build the OPI."
   ]
  },
  {
   "cell_type": "code",
   "execution_count": 25,
   "id": "b25cc8c5",
   "metadata": {},
   "outputs": [
    {
     "data": {
      "text/plain": [
       "Index(['scheduled_delivery_period', 'region', 'quantity', 'price',\n",
       "       'non_scheduled', 'supplier', 'order_date_est', 'order_date_factual',\n",
       "       'name2', 'group'],\n",
       "      dtype='object')"
      ]
     },
     "execution_count": 25,
     "metadata": {},
     "output_type": "execute_result"
    }
   ],
   "source": [
    "df_contracts.columns"
   ]
  },
  {
   "cell_type": "code",
   "execution_count": 26,
   "id": "46e187b4",
   "metadata": {},
   "outputs": [
    {
     "data": {
      "text/html": [
       "<div>\n",
       "<style scoped>\n",
       "    .dataframe tbody tr th:only-of-type {\n",
       "        vertical-align: middle;\n",
       "    }\n",
       "\n",
       "    .dataframe tbody tr th {\n",
       "        vertical-align: top;\n",
       "    }\n",
       "\n",
       "    .dataframe thead th {\n",
       "        text-align: right;\n",
       "    }\n",
       "</style>\n",
       "<table border=\"1\" class=\"dataframe\">\n",
       "  <thead>\n",
       "    <tr style=\"text-align: right;\">\n",
       "      <th></th>\n",
       "      <th>scheduled_delivery_period</th>\n",
       "      <th>quantity</th>\n",
       "      <th>price</th>\n",
       "      <th>non_scheduled</th>\n",
       "      <th>supplier</th>\n",
       "      <th>order_date_est</th>\n",
       "      <th>order_date_factual</th>\n",
       "    </tr>\n",
       "  </thead>\n",
       "  <tbody>\n",
       "    <tr>\n",
       "      <th>count</th>\n",
       "      <td>732.000000</td>\n",
       "      <td>732.000000</td>\n",
       "      <td>7.320000e+02</td>\n",
       "      <td>732.000000</td>\n",
       "      <td>732.000000</td>\n",
       "      <td>7.320000e+02</td>\n",
       "      <td>732.000000</td>\n",
       "    </tr>\n",
       "    <tr>\n",
       "      <th>mean</th>\n",
       "      <td>177.800546</td>\n",
       "      <td>6.318306</td>\n",
       "      <td>4.528960e+05</td>\n",
       "      <td>0.062842</td>\n",
       "      <td>3876.267760</td>\n",
       "      <td>1.043143e+06</td>\n",
       "      <td>0.587432</td>\n",
       "    </tr>\n",
       "    <tr>\n",
       "      <th>std</th>\n",
       "      <td>81.049113</td>\n",
       "      <td>24.813858</td>\n",
       "      <td>8.976218e+05</td>\n",
       "      <td>0.242844</td>\n",
       "      <td>367.727412</td>\n",
       "      <td>4.953088e+05</td>\n",
       "      <td>0.492633</td>\n",
       "    </tr>\n",
       "    <tr>\n",
       "      <th>min</th>\n",
       "      <td>30.000000</td>\n",
       "      <td>1.000000</td>\n",
       "      <td>5.522293e+02</td>\n",
       "      <td>0.000000</td>\n",
       "      <td>259.000000</td>\n",
       "      <td>4.752000e+04</td>\n",
       "      <td>0.000000</td>\n",
       "    </tr>\n",
       "    <tr>\n",
       "      <th>25%</th>\n",
       "      <td>110.000000</td>\n",
       "      <td>1.000000</td>\n",
       "      <td>4.455414e+04</td>\n",
       "      <td>0.000000</td>\n",
       "      <td>3927.000000</td>\n",
       "      <td>7.490880e+05</td>\n",
       "      <td>0.000000</td>\n",
       "    </tr>\n",
       "    <tr>\n",
       "      <th>50%</th>\n",
       "      <td>180.000000</td>\n",
       "      <td>2.000000</td>\n",
       "      <td>1.710191e+05</td>\n",
       "      <td>0.000000</td>\n",
       "      <td>4011.000000</td>\n",
       "      <td>1.000080e+06</td>\n",
       "      <td>1.000000</td>\n",
       "    </tr>\n",
       "    <tr>\n",
       "      <th>75%</th>\n",
       "      <td>220.000000</td>\n",
       "      <td>4.000000</td>\n",
       "      <td>4.384914e+05</td>\n",
       "      <td>0.000000</td>\n",
       "      <td>4012.000000</td>\n",
       "      <td>1.306152e+06</td>\n",
       "      <td>1.000000</td>\n",
       "    </tr>\n",
       "    <tr>\n",
       "      <th>max</th>\n",
       "      <td>400.000000</td>\n",
       "      <td>529.000000</td>\n",
       "      <td>7.967586e+06</td>\n",
       "      <td>1.000000</td>\n",
       "      <td>4014.000000</td>\n",
       "      <td>2.016576e+06</td>\n",
       "      <td>1.000000</td>\n",
       "    </tr>\n",
       "  </tbody>\n",
       "</table>\n",
       "</div>"
      ],
      "text/plain": [
       "       scheduled_delivery_period    quantity         price  non_scheduled  \\\n",
       "count                 732.000000  732.000000  7.320000e+02     732.000000   \n",
       "mean                  177.800546    6.318306  4.528960e+05       0.062842   \n",
       "std                    81.049113   24.813858  8.976218e+05       0.242844   \n",
       "min                    30.000000    1.000000  5.522293e+02       0.000000   \n",
       "25%                   110.000000    1.000000  4.455414e+04       0.000000   \n",
       "50%                   180.000000    2.000000  1.710191e+05       0.000000   \n",
       "75%                   220.000000    4.000000  4.384914e+05       0.000000   \n",
       "max                   400.000000  529.000000  7.967586e+06       1.000000   \n",
       "\n",
       "          supplier  order_date_est  order_date_factual  \n",
       "count   732.000000    7.320000e+02          732.000000  \n",
       "mean   3876.267760    1.043143e+06            0.587432  \n",
       "std     367.727412    4.953088e+05            0.492633  \n",
       "min     259.000000    4.752000e+04            0.000000  \n",
       "25%    3927.000000    7.490880e+05            0.000000  \n",
       "50%    4011.000000    1.000080e+06            1.000000  \n",
       "75%    4012.000000    1.306152e+06            1.000000  \n",
       "max    4014.000000    2.016576e+06            1.000000  "
      ]
     },
     "execution_count": 26,
     "metadata": {},
     "output_type": "execute_result"
    }
   ],
   "source": [
    "df_contracts.describe()"
   ]
  },
  {
   "cell_type": "markdown",
   "id": "3583af28",
   "metadata": {},
   "source": [
    "Will use only factual dates."
   ]
  },
  {
   "cell_type": "code",
   "execution_count": 27,
   "id": "7a37056f",
   "metadata": {},
   "outputs": [],
   "source": [
    "min_date = df_contracts[df_contracts.order_date_factual==1].order_date_est.min()\n",
    "max_date = df_contracts[df_contracts.order_date_factual==1].order_date_est.max()"
   ]
  },
  {
   "cell_type": "code",
   "execution_count": 28,
   "id": "ab789c6c",
   "metadata": {},
   "outputs": [
    {
     "data": {
      "text/plain": [
       "Index(['scheduled_delivery_period', 'region', 'quantity', 'price',\n",
       "       'non_scheduled', 'supplier', 'order_date_est', 'order_date_factual',\n",
       "       'name2', 'group'],\n",
       "      dtype='object')"
      ]
     },
     "execution_count": 28,
     "metadata": {},
     "output_type": "execute_result"
    }
   ],
   "source": [
    "df_contracts.columns"
   ]
  },
  {
   "cell_type": "code",
   "execution_count": 29,
   "id": "e36fa68f",
   "metadata": {},
   "outputs": [],
   "source": [
    "dates = range(min_date, max_date + 1)\n",
    "tseries = pd.DataFrame(index=dates)"
   ]
  },
  {
   "cell_type": "code",
   "execution_count": 30,
   "id": "893a5d0d",
   "metadata": {},
   "outputs": [
    {
     "data": {
      "text/html": [
       "<div>\n",
       "<style scoped>\n",
       "    .dataframe tbody tr th:only-of-type {\n",
       "        vertical-align: middle;\n",
       "    }\n",
       "\n",
       "    .dataframe tbody tr th {\n",
       "        vertical-align: top;\n",
       "    }\n",
       "\n",
       "    .dataframe thead th {\n",
       "        text-align: right;\n",
       "    }\n",
       "</style>\n",
       "<table border=\"1\" class=\"dataframe\">\n",
       "  <thead>\n",
       "    <tr style=\"text-align: right;\">\n",
       "      <th></th>\n",
       "      <th>scheduled_delivery_period</th>\n",
       "      <th>region</th>\n",
       "      <th>quantity</th>\n",
       "      <th>price</th>\n",
       "      <th>non_scheduled</th>\n",
       "      <th>supplier</th>\n",
       "      <th>order_date_est</th>\n",
       "      <th>order_date_factual</th>\n",
       "      <th>name2</th>\n",
       "      <th>group</th>\n",
       "    </tr>\n",
       "  </thead>\n",
       "  <tbody>\n",
       "    <tr>\n",
       "      <th>17</th>\n",
       "      <td>120.0</td>\n",
       "      <td>Вологодская область</td>\n",
       "      <td>2</td>\n",
       "      <td>57324.840764</td>\n",
       "      <td>0.0</td>\n",
       "      <td>3699</td>\n",
       "      <td>47520</td>\n",
       "      <td>1.0</td>\n",
       "      <td>рейка зубч 1080-04-114-1 кремальерная</td>\n",
       "      <td>рейка</td>\n",
       "    </tr>\n",
       "    <tr>\n",
       "      <th>12</th>\n",
       "      <td>140.0</td>\n",
       "      <td>Вологодская область</td>\n",
       "      <td>5</td>\n",
       "      <td>5732.484076</td>\n",
       "      <td>0.0</td>\n",
       "      <td>3699</td>\n",
       "      <td>47520</td>\n",
       "      <td>1.0</td>\n",
       "      <td>зуб ковша 1080-02-10 наплавка</td>\n",
       "      <td>зуб</td>\n",
       "    </tr>\n",
       "    <tr>\n",
       "      <th>9</th>\n",
       "      <td>130.0</td>\n",
       "      <td>Вологодская область</td>\n",
       "      <td>2</td>\n",
       "      <td>9171.974522</td>\n",
       "      <td>0.0</td>\n",
       "      <td>3699</td>\n",
       "      <td>47520</td>\n",
       "      <td>1.0</td>\n",
       "      <td>вал 1080-33-51</td>\n",
       "      <td>вал</td>\n",
       "    </tr>\n",
       "    <tr>\n",
       "      <th>4</th>\n",
       "      <td>75.0</td>\n",
       "      <td>Вологодская область</td>\n",
       "      <td>30</td>\n",
       "      <td>6496.815287</td>\n",
       "      <td>0.0</td>\n",
       "      <td>3699</td>\n",
       "      <td>47520</td>\n",
       "      <td>1.0</td>\n",
       "      <td>зуб ковша 1085-52-05-1сб наплавка</td>\n",
       "      <td>зуб</td>\n",
       "    </tr>\n",
       "    <tr>\n",
       "      <th>5</th>\n",
       "      <td>90.0</td>\n",
       "      <td>Вологодская область</td>\n",
       "      <td>10</td>\n",
       "      <td>1942.675159</td>\n",
       "      <td>0.0</td>\n",
       "      <td>3699</td>\n",
       "      <td>47520</td>\n",
       "      <td>1.0</td>\n",
       "      <td>пластина ibr130 23х130х240</td>\n",
       "      <td>пластина</td>\n",
       "    </tr>\n",
       "  </tbody>\n",
       "</table>\n",
       "</div>"
      ],
      "text/plain": [
       "    scheduled_delivery_period               region  quantity         price  \\\n",
       "17                      120.0  Вологодская область         2  57324.840764   \n",
       "12                      140.0  Вологодская область         5   5732.484076   \n",
       "9                       130.0  Вологодская область         2   9171.974522   \n",
       "4                        75.0  Вологодская область        30   6496.815287   \n",
       "5                        90.0  Вологодская область        10   1942.675159   \n",
       "\n",
       "    non_scheduled  supplier  order_date_est  order_date_factual  \\\n",
       "17            0.0      3699           47520                 1.0   \n",
       "12            0.0      3699           47520                 1.0   \n",
       "9             0.0      3699           47520                 1.0   \n",
       "4             0.0      3699           47520                 1.0   \n",
       "5             0.0      3699           47520                 1.0   \n",
       "\n",
       "                                    name2     group  \n",
       "17  рейка зубч 1080-04-114-1 кремальерная     рейка  \n",
       "12          зуб ковша 1080-02-10 наплавка       зуб  \n",
       "9                          вал 1080-33-51       вал  \n",
       "4       зуб ковша 1085-52-05-1сб наплавка       зуб  \n",
       "5              пластина ibr130 23х130х240  пластина  "
      ]
     },
     "execution_count": 30,
     "metadata": {},
     "output_type": "execute_result"
    }
   ],
   "source": [
    "df_contracts.head()"
   ]
  },
  {
   "cell_type": "code",
   "execution_count": 31,
   "id": "6bbf6d49",
   "metadata": {},
   "outputs": [
    {
     "name": "stderr",
     "output_type": "stream",
     "text": [
      "C:\\Users\\kan\\AppData\\Local\\Temp/ipykernel_20408/717599265.py:5: PerformanceWarning: DataFrame is highly fragmented.  This is usually the result of calling `frame.insert` many times, which has poor performance.  Consider joining all columns at once using pd.concat(axis=1) instead.  To get a de-fragmented frame, use `newframe = frame.copy()`\n",
      "  tseries[name] = None\n"
     ]
    }
   ],
   "source": [
    "for name in freqs2.index:\n",
    "#     import pdb; pdb.set_trace()\n",
    "    flt = df_contracts[df_contracts.name2==name]\n",
    "    for _, item in flt.iterrows():\n",
    "        tseries[name] = None\n",
    "        tseries.loc[item.order_date_est, name] = item.price"
   ]
  },
  {
   "cell_type": "code",
   "execution_count": 32,
   "id": "3c65703a",
   "metadata": {},
   "outputs": [
    {
     "data": {
      "text/html": [
       "<div>\n",
       "<style scoped>\n",
       "    .dataframe tbody tr th:only-of-type {\n",
       "        vertical-align: middle;\n",
       "    }\n",
       "\n",
       "    .dataframe tbody tr th {\n",
       "        vertical-align: top;\n",
       "    }\n",
       "\n",
       "    .dataframe thead th {\n",
       "        text-align: right;\n",
       "    }\n",
       "</style>\n",
       "<table border=\"1\" class=\"dataframe\">\n",
       "  <thead>\n",
       "    <tr style=\"text-align: right;\">\n",
       "      <th></th>\n",
       "      <th>втулка 1080-33-18-1</th>\n",
       "      <th>втулка 3546-03-01-008</th>\n",
       "      <th>втулка 1080-33-81</th>\n",
       "      <th>палец 00-3712-ур20км</th>\n",
       "      <th>втулка 1080-05-312</th>\n",
       "      <th>палец 01-3712-ур20км</th>\n",
       "      <th>венец зубч (1/4 часть) 3533-05-00-081</th>\n",
       "      <th>ось напорная 3546-03-04-002</th>\n",
       "      <th>втулка 3546-03-01-008р</th>\n",
       "      <th>засов днища 11078-51-154сб</th>\n",
       "      <th>...</th>\n",
       "      <th>вал 3519-05-02-007</th>\n",
       "      <th>коромысло 3537-25-00-500</th>\n",
       "      <th>сателлит 3536-11-01-028</th>\n",
       "      <th>засов 3532-01-02-007</th>\n",
       "      <th>колесо 3519-05-02-100</th>\n",
       "      <th>вал трмз 3519-05-02-007</th>\n",
       "      <th>вал 3536-11-01-002</th>\n",
       "      <th>вал 3519-05-02-083</th>\n",
       "      <th>колесо 3519-05-02-006</th>\n",
       "      <th>коромысло 3519-21-00-023</th>\n",
       "    </tr>\n",
       "  </thead>\n",
       "  <tbody>\n",
       "    <tr>\n",
       "      <th>47520</th>\n",
       "      <td>None</td>\n",
       "      <td>None</td>\n",
       "      <td>None</td>\n",
       "      <td>None</td>\n",
       "      <td>None</td>\n",
       "      <td>None</td>\n",
       "      <td>None</td>\n",
       "      <td>None</td>\n",
       "      <td>None</td>\n",
       "      <td>None</td>\n",
       "      <td>...</td>\n",
       "      <td>None</td>\n",
       "      <td>None</td>\n",
       "      <td>None</td>\n",
       "      <td>None</td>\n",
       "      <td>None</td>\n",
       "      <td>None</td>\n",
       "      <td>None</td>\n",
       "      <td>None</td>\n",
       "      <td>None</td>\n",
       "      <td>None</td>\n",
       "    </tr>\n",
       "    <tr>\n",
       "      <th>47521</th>\n",
       "      <td>None</td>\n",
       "      <td>None</td>\n",
       "      <td>None</td>\n",
       "      <td>None</td>\n",
       "      <td>None</td>\n",
       "      <td>None</td>\n",
       "      <td>None</td>\n",
       "      <td>None</td>\n",
       "      <td>None</td>\n",
       "      <td>None</td>\n",
       "      <td>...</td>\n",
       "      <td>None</td>\n",
       "      <td>None</td>\n",
       "      <td>None</td>\n",
       "      <td>None</td>\n",
       "      <td>None</td>\n",
       "      <td>None</td>\n",
       "      <td>None</td>\n",
       "      <td>None</td>\n",
       "      <td>None</td>\n",
       "      <td>None</td>\n",
       "    </tr>\n",
       "    <tr>\n",
       "      <th>47522</th>\n",
       "      <td>None</td>\n",
       "      <td>None</td>\n",
       "      <td>None</td>\n",
       "      <td>None</td>\n",
       "      <td>None</td>\n",
       "      <td>None</td>\n",
       "      <td>None</td>\n",
       "      <td>None</td>\n",
       "      <td>None</td>\n",
       "      <td>None</td>\n",
       "      <td>...</td>\n",
       "      <td>None</td>\n",
       "      <td>None</td>\n",
       "      <td>None</td>\n",
       "      <td>None</td>\n",
       "      <td>None</td>\n",
       "      <td>None</td>\n",
       "      <td>None</td>\n",
       "      <td>None</td>\n",
       "      <td>None</td>\n",
       "      <td>None</td>\n",
       "    </tr>\n",
       "    <tr>\n",
       "      <th>47523</th>\n",
       "      <td>None</td>\n",
       "      <td>None</td>\n",
       "      <td>None</td>\n",
       "      <td>None</td>\n",
       "      <td>None</td>\n",
       "      <td>None</td>\n",
       "      <td>None</td>\n",
       "      <td>None</td>\n",
       "      <td>None</td>\n",
       "      <td>None</td>\n",
       "      <td>...</td>\n",
       "      <td>None</td>\n",
       "      <td>None</td>\n",
       "      <td>None</td>\n",
       "      <td>None</td>\n",
       "      <td>None</td>\n",
       "      <td>None</td>\n",
       "      <td>None</td>\n",
       "      <td>None</td>\n",
       "      <td>None</td>\n",
       "      <td>None</td>\n",
       "    </tr>\n",
       "    <tr>\n",
       "      <th>47524</th>\n",
       "      <td>None</td>\n",
       "      <td>None</td>\n",
       "      <td>None</td>\n",
       "      <td>None</td>\n",
       "      <td>None</td>\n",
       "      <td>None</td>\n",
       "      <td>None</td>\n",
       "      <td>None</td>\n",
       "      <td>None</td>\n",
       "      <td>None</td>\n",
       "      <td>...</td>\n",
       "      <td>None</td>\n",
       "      <td>None</td>\n",
       "      <td>None</td>\n",
       "      <td>None</td>\n",
       "      <td>None</td>\n",
       "      <td>None</td>\n",
       "      <td>None</td>\n",
       "      <td>None</td>\n",
       "      <td>None</td>\n",
       "      <td>None</td>\n",
       "    </tr>\n",
       "  </tbody>\n",
       "</table>\n",
       "<p>5 rows × 175 columns</p>\n",
       "</div>"
      ],
      "text/plain": [
       "      втулка 1080-33-18-1 втулка 3546-03-01-008 втулка 1080-33-81  \\\n",
       "47520                None                  None              None   \n",
       "47521                None                  None              None   \n",
       "47522                None                  None              None   \n",
       "47523                None                  None              None   \n",
       "47524                None                  None              None   \n",
       "\n",
       "      палец 00-3712-ур20км втулка 1080-05-312 палец 01-3712-ур20км  \\\n",
       "47520                 None               None                 None   \n",
       "47521                 None               None                 None   \n",
       "47522                 None               None                 None   \n",
       "47523                 None               None                 None   \n",
       "47524                 None               None                 None   \n",
       "\n",
       "      венец зубч (1/4 часть) 3533-05-00-081 ось напорная 3546-03-04-002  \\\n",
       "47520                                  None                        None   \n",
       "47521                                  None                        None   \n",
       "47522                                  None                        None   \n",
       "47523                                  None                        None   \n",
       "47524                                  None                        None   \n",
       "\n",
       "      втулка 3546-03-01-008р засов днища 11078-51-154сб  ...  \\\n",
       "47520                   None                       None  ...   \n",
       "47521                   None                       None  ...   \n",
       "47522                   None                       None  ...   \n",
       "47523                   None                       None  ...   \n",
       "47524                   None                       None  ...   \n",
       "\n",
       "      вал 3519-05-02-007 коромысло 3537-25-00-500 сателлит 3536-11-01-028  \\\n",
       "47520               None                     None                    None   \n",
       "47521               None                     None                    None   \n",
       "47522               None                     None                    None   \n",
       "47523               None                     None                    None   \n",
       "47524               None                     None                    None   \n",
       "\n",
       "      засов 3532-01-02-007 колесо 3519-05-02-100 вал трмз 3519-05-02-007  \\\n",
       "47520                 None                  None                    None   \n",
       "47521                 None                  None                    None   \n",
       "47522                 None                  None                    None   \n",
       "47523                 None                  None                    None   \n",
       "47524                 None                  None                    None   \n",
       "\n",
       "      вал 3536-11-01-002 вал 3519-05-02-083 колесо 3519-05-02-006  \\\n",
       "47520               None               None                  None   \n",
       "47521               None               None                  None   \n",
       "47522               None               None                  None   \n",
       "47523               None               None                  None   \n",
       "47524               None               None                  None   \n",
       "\n",
       "      коромысло 3519-21-00-023  \n",
       "47520                     None  \n",
       "47521                     None  \n",
       "47522                     None  \n",
       "47523                     None  \n",
       "47524                     None  \n",
       "\n",
       "[5 rows x 175 columns]"
      ]
     },
     "execution_count": 32,
     "metadata": {},
     "output_type": "execute_result"
    }
   ],
   "source": [
    "tseries.head()"
   ]
  },
  {
   "cell_type": "code",
   "execution_count": 34,
   "id": "c9ff1122",
   "metadata": {},
   "outputs": [
    {
     "name": "stdout",
     "output_type": "stream",
     "text": [
      "col='втулка 1080-33-18-1', npoints=1\n",
      "col='втулка 3546-03-01-008', npoints=1\n",
      "col='втулка 1080-33-81', npoints=1\n",
      "col='палец 00-3712-ур20км', npoints=1\n",
      "col='втулка 1080-05-312', npoints=1\n",
      "col='палец 01-3712-ур20км', npoints=1\n",
      "col='венец зубч (1/4 часть) 3533-05-00-081', npoints=1\n",
      "col='ось напорная 3546-03-04-002', npoints=1\n",
      "col='втулка 3546-03-01-008р', npoints=1\n",
      "col='засов днища 11078-51-154сб', npoints=1\n",
      "col='муфта 3536-22-00-400', npoints=1\n",
      "col='лестница 3550-17-03-200-01', npoints=1\n",
      "col='зуб ковша 1080-02-10 наплавка', npoints=1\n",
      "col='лента гусеничная 3537-69-13-000 ис-09сб', npoints=1\n",
      "col='зуб ковша 3711-33-00-006', npoints=1\n",
      "col='ковш 1085-52-00-2сб', npoints=1\n",
      "col='компрессор 1080-19-100-1сб', npoints=1\n",
      "col='кольцо 3536-05-02-004', npoints=1\n",
      "col='колесо натяжное 3536-05-02-300', npoints=1\n",
      "col='колесо ведущ 3519-05-02-061', npoints=1\n",
      "col='колесо 3519-05-02-100 малое опорное', npoints=1\n",
      "col='колесо 3572-05-10-302 сателлит', npoints=1\n",
      "col='ось 150х380 г34-44-01/3532-21-00-012', npoints=1\n",
      "col='переключатель оэ ns3g11ak vrl-ns3-a-7-7', npoints=1\n",
      "col='колесо 3536-10-01-250', npoints=1\n",
      "col='вал-шестерня 3550-11-01-002', npoints=1\n",
      "col='петля 11078-02-101-1сб', npoints=1\n",
      "col='шкив 3536-09-00-140 дэ-818', npoints=1\n",
      "col='ползун 1085-75-307', npoints=1\n",
      "col='токоприемник ткэ 0-5 ухл1', npoints=1\n",
      "col='установка насосная 3555-11-01-150', npoints=1\n",
      "col='хомут 3519-05-02-013', npoints=1\n",
      "col='полухомут г34-53', npoints=1\n",
      "col='блок-шестерня с подш 3532-10-01-300сб', npoints=1\n",
      "col='рычаг 3546-00-04-100', npoints=1\n",
      "col='хомут 3519-05-02-036', npoints=1\n",
      "col='шестерня 1085-75-350сб', npoints=1\n",
      "col='хомут 3519-05-02-058', npoints=1\n",
      "col='подкос задний 3711-12-02-000', npoints=1\n",
      "col='маслоотделитель 114-00088', npoints=1\n",
      "col='комплект кабелей', npoints=1\n",
      "col='комплект кабельной прод в/вольтн', npoints=1\n",
      "col='шестерня 3572-05-10-002', npoints=1\n",
      "col='колесо зубч 3536-08-01-300', npoints=1\n",
      "col='колесо зубч 3519-05-02-006 z=29 м=36', npoints=1\n",
      "col='шпилька 3546-03-04-003', npoints=1\n",
      "col='шпилька 3550-05-00-012-03', npoints=1\n",
      "col='цепь гусенич 11078-34-001-1-100г-сб', npoints=1\n",
      "col='сателлит 3548-10-01-252-01', npoints=1\n",
      "col='рельс кольцевой 3536-13-00-004 сегмент', npoints=1\n",
      "col='муфта жаие-303526-001', npoints=1\n",
      "col='подшипник 3536-03-08-000 седловой', npoints=1\n",
      "col='подшипник седловой 3546-03-04-000-03', npoints=1\n",
      "col='колесо 3548-05-02-100', npoints=1\n",
      "col='полублок 3536-38-00-001', npoints=1\n",
      "col='полублок возвратный 3519-49-00-001', npoints=1\n",
      "col='ось натяжная 3519-05-02-081', npoints=1\n",
      "col='распределитель эл-пневм 3532-14-03-000', npoints=1\n",
      "col='муфта 3536-22-00-300', npoints=1\n",
      "col='редуктор 3555-11-01-000сб', npoints=1\n",
      "col='редуктор поворота 3555-11-01-000сб', npoints=1\n",
      "col='рейка 1080-04-114-1', npoints=1\n",
      "col='ось 3536-05-12-081', npoints=1\n",
      "col='ось 3519-21-00-009', npoints=1\n",
      "col='ось 200x630 3711-25-00-001', npoints=1\n",
      "col='рейка зубч 1080-04-114-1 кремальерная', npoints=1\n",
      "col='накладка межзуб 3711-33-00-001', npoints=1\n",
      "col='ось 3712-05-02-002', npoints=1\n",
      "col='амортизатор 041-55-04-1210', npoints=1\n",
      "col='ячейка явв-6-250-03', npoints=1\n",
      "col='втулка 1080-33-39-1', npoints=1\n",
      "col='засов 11075-02-152', npoints=1\n",
      "col='звено гусеничное 3537-69-13-001-01', npoints=1\n",
      "col='втулка 1080-75-312', npoints=1\n",
      "col='втулка 1080-33-40', npoints=1\n",
      "col='венец зубч 3549-05-00-081', npoints=1\n",
      "col='вант 00-1606-46-1', npoints=1\n",
      "col='вал-шестерня 3537-67-01-023', npoints=1\n",
      "col='ковш экскаваторный 38-3537-31-00-000 сб', npoints=1\n",
      "col='колесо 1080-33-09сб', npoints=1\n",
      "col='колесо 1080-33-58', npoints=1\n",
      "col='вал ведущий 3550-05-02-046-02', npoints=1\n",
      "col='втулка 3712-05-02-017-д1', npoints=1\n",
      "col='блок голов 3711-03-05-000-01', npoints=1\n",
      "col='вал 3519-05-02-062', npoints=1\n",
      "col='болт 3537-03-01-009-01', npoints=1\n",
      "col='балка рукояти 3711-38-01-000', npoints=1\n",
      "col='блок 3519-21-00-008', npoints=1\n",
      "col='втулка 3707-05-02-014-д1', npoints=1\n",
      "col='ось 3711-21-00-016', npoints=1\n",
      "col='втулка 3540-03-01-012', npoints=1\n",
      "col='ось напорная 3536-03-00-001', npoints=1\n",
      "col='втулка 3536-05-02-150', npoints=1\n",
      "col='ось напорная 3546-03-04-021', npoints=1\n",
      "col='блок 3519-21-00-011', npoints=1\n",
      "col='вал-шестерня 3536-11-01-002', npoints=1\n",
      "col='вал 3537-11-01-029', npoints=1\n",
      "col='палец звена гусеничного 3519-05-03-002', npoints=1\n",
      "col='вант стрелы 00-1606-49-1', npoints=1\n",
      "col='вант стрелы 00-1606-46-1', npoints=1\n",
      "col='шестерня 3572-05-10-001', npoints=1\n",
      "col='подкос левый 3536-24-00-270', npoints=1\n",
      "col='втулка 3707-05-02-016-д1', npoints=1\n",
      "col='вал 1080-33-51', npoints=1\n",
      "col='цапфа 3635-06-00-000', npoints=1\n",
      "col='блок 3536-03-00-150', npoints=1\n",
      "col='подкос правый 3536-24-00-250', npoints=1\n",
      "col='колесо натяжное 3712-05-02-300-03', npoints=1\n",
      "col='зуб ковша 1085-52-05-1сб наплавка', npoints=1\n",
      "col='кулак 3550-05-02-507', npoints=1\n",
      "col='комплект трансформаторов', npoints=1\n",
      "col='колесо натяж 3537-70-02-300-02сб', npoints=1\n",
      "col='механизм запасовки канатов', npoints=1\n",
      "col='муфта жаие-303526-001-03', npoints=1\n",
      "col='засов днища 3532-01-02-007', npoints=1\n",
      "col='обойма 3532-21-00-100сб', npoints=1\n",
      "col='колесо ведущее 3519-05-02-003', npoints=1\n",
      "col='колесо 3572-05-10-302', npoints=1\n",
      "col='ось 11075-28-40-1', npoints=1\n",
      "col='ячейка в/вольтн-ввода яввз-6-250 ухл2', npoints=1\n",
      "col='днище 3711-01-02-001', npoints=1\n",
      "col='коромысло 3711-21-00-200', npoints=1\n",
      "col='втулка 3707-05-02-302-д2', npoints=1\n",
      "col='рычаг 3711-01-02-050', npoints=1\n",
      "col='вал быстроходный 3572-05-10-150', npoints=1\n",
      "col='колесо 3519-05-02-003', npoints=1\n",
      "col='рельс 3536-13-00-004', npoints=1\n",
      "col='ось 3519-05-02-081', npoints=1\n",
      "col='стенка передн 3537-01-01-020', npoints=1\n",
      "col='вал 3532-10-01-011', npoints=1\n",
      "col='колесо зубчатое 3537-67-01-033', npoints=1\n",
      "col='цепь 3519-05-03-000', npoints=1\n",
      "col='колесо 3555-11-01-001', npoints=1\n",
      "col='вал 3536-10-01-200', npoints=1\n",
      "col='подшипник седловой 3536-03-08-000', npoints=1\n",
      "col='вал ведущий 3519-05-02-007', npoints=1\n",
      "col='колесо 3544-15-00-005', npoints=1\n",
      "col='круг 3536-07-03-000', npoints=1\n",
      "col='ось трмз 3519-05-02-081', npoints=1\n",
      "col='петля 3711-01-02-002', npoints=1\n",
      "col='плита днища 11078-02-131-1', npoints=1\n",
      "col='комплект кабельной прод н/вольтh', npoints=1\n",
      "col='ковш 3536-01-00-000', npoints=1\n",
      "col='вал 3572-05-10-200', npoints=1\n",
      "col='вал 3572-05-10-150', npoints=1\n",
      "col='венец 3536-05-00-001', npoints=1\n",
      "col='ось 3536-03-00-001', npoints=1\n",
      "col='вал 3536-22-01-001сб', npoints=1\n",
      "col='зуб 1085-52-05-1', npoints=1\n",
      "col='вал трмз 3572-05-10-150', npoints=1\n",
      "col='сателлит 3536-11-01-004', npoints=1\n",
      "col='колесо 3536-08-01-300', npoints=1\n",
      "col='вал трмз 3572-05-10-200', npoints=1\n",
      "col='шестерня трмз 3572-05-10-002', npoints=1\n",
      "col='пластина ibr130 23х130х240', npoints=1\n",
      "col='колесо 3519-05-02-200', npoints=1\n",
      "col='колесо трмз 3519-05-02-006', npoints=1\n",
      "col='стенка передн 3711-33-01-200', npoints=1\n",
      "col='вал 3536-08-01-001', npoints=1\n",
      "col='колесо 3519-05-02-300', npoints=1\n",
      "col='ось 3519-05-02-082', npoints=1\n",
      "col='ось 3519-21-00-025', npoints=1\n",
      "col='блок-шестерня 3532-10-01-300', npoints=1\n",
      "col='колесо 3519-05-02-061', npoints=1\n",
      "col='вал 3536-22-01-050', npoints=1\n",
      "col='вал 3519-05-02-007', npoints=1\n",
      "col='коромысло 3537-25-00-500', npoints=1\n",
      "col='сателлит 3536-11-01-028', npoints=1\n",
      "col='засов 3532-01-02-007', npoints=1\n",
      "col='колесо 3519-05-02-100', npoints=1\n",
      "col='вал трмз 3519-05-02-007', npoints=1\n",
      "col='вал 3536-11-01-002', npoints=1\n",
      "col='вал 3519-05-02-083', npoints=1\n",
      "col='колесо 3519-05-02-006', npoints=1\n",
      "col='коромысло 3519-21-00-023', npoints=1\n"
     ]
    }
   ],
   "source": [
    "for col in tseries.columns:\n",
    "    opened = False\n",
    "    npoints = tseries[col].count()\n",
    "    print(f\"{col=}, {npoints=}\")"
   ]
  },
  {
   "cell_type": "markdown",
   "id": "99d14be4",
   "metadata": {},
   "source": [
    "## Group & Normalize Longest Series"
   ]
  },
  {
   "cell_type": "code",
   "execution_count": null,
   "id": "75f1c255",
   "metadata": {},
   "outputs": [],
   "source": []
  },
  {
   "cell_type": "markdown",
   "id": "26b76953",
   "metadata": {},
   "source": [
    "# Baseline"
   ]
  },
  {
   "cell_type": "code",
   "execution_count": 29,
   "id": "bcc872cb",
   "metadata": {},
   "outputs": [],
   "source": [
    "enc = OneHotEncoder(drop='first')\n",
    "enc.fit(df_flt[['region', 'non_scheduled', 'supplier', 'order_date_factual', 'name2', 'group']])\n",
    "encoder_df = pd.DataFrame(enc.fit_transform(df_flt[['region', 'non_scheduled', 'supplier', 'order_date_factual', 'name2']]).toarray())"
   ]
  },
  {
   "cell_type": "code",
   "execution_count": 30,
   "id": "f2c9deb4",
   "metadata": {},
   "outputs": [
    {
     "data": {
      "text/html": [
       "<div>\n",
       "<style scoped>\n",
       "    .dataframe tbody tr th:only-of-type {\n",
       "        vertical-align: middle;\n",
       "    }\n",
       "\n",
       "    .dataframe tbody tr th {\n",
       "        vertical-align: top;\n",
       "    }\n",
       "\n",
       "    .dataframe thead th {\n",
       "        text-align: right;\n",
       "    }\n",
       "</style>\n",
       "<table border=\"1\" class=\"dataframe\">\n",
       "  <thead>\n",
       "    <tr style=\"text-align: right;\">\n",
       "      <th></th>\n",
       "      <th>scheduled_delivery_period</th>\n",
       "      <th>quantity</th>\n",
       "      <th>price</th>\n",
       "      <th>order_date_est</th>\n",
       "      <th>0</th>\n",
       "      <th>1</th>\n",
       "      <th>2</th>\n",
       "      <th>3</th>\n",
       "      <th>4</th>\n",
       "      <th>5</th>\n",
       "      <th>...</th>\n",
       "      <th>206</th>\n",
       "      <th>207</th>\n",
       "      <th>208</th>\n",
       "      <th>209</th>\n",
       "      <th>210</th>\n",
       "      <th>211</th>\n",
       "      <th>212</th>\n",
       "      <th>213</th>\n",
       "      <th>214</th>\n",
       "      <th>215</th>\n",
       "    </tr>\n",
       "  </thead>\n",
       "  <tbody>\n",
       "    <tr>\n",
       "      <th>0</th>\n",
       "      <td>210.0</td>\n",
       "      <td>1</td>\n",
       "      <td>38394.904459</td>\n",
       "      <td>0</td>\n",
       "      <td>0.0</td>\n",
       "      <td>0.0</td>\n",
       "      <td>0.0</td>\n",
       "      <td>0.0</td>\n",
       "      <td>0.0</td>\n",
       "      <td>0.0</td>\n",
       "      <td>...</td>\n",
       "      <td>0.0</td>\n",
       "      <td>0.0</td>\n",
       "      <td>0.0</td>\n",
       "      <td>0.0</td>\n",
       "      <td>0.0</td>\n",
       "      <td>0.0</td>\n",
       "      <td>0.0</td>\n",
       "      <td>0.0</td>\n",
       "      <td>0.0</td>\n",
       "      <td>0.0</td>\n",
       "    </tr>\n",
       "    <tr>\n",
       "      <th>20</th>\n",
       "      <td>60.0</td>\n",
       "      <td>1</td>\n",
       "      <td>134394.904459</td>\n",
       "      <td>47520</td>\n",
       "      <td>0.0</td>\n",
       "      <td>1.0</td>\n",
       "      <td>0.0</td>\n",
       "      <td>0.0</td>\n",
       "      <td>0.0</td>\n",
       "      <td>0.0</td>\n",
       "      <td>...</td>\n",
       "      <td>0.0</td>\n",
       "      <td>0.0</td>\n",
       "      <td>0.0</td>\n",
       "      <td>0.0</td>\n",
       "      <td>0.0</td>\n",
       "      <td>0.0</td>\n",
       "      <td>0.0</td>\n",
       "      <td>0.0</td>\n",
       "      <td>0.0</td>\n",
       "      <td>0.0</td>\n",
       "    </tr>\n",
       "    <tr>\n",
       "      <th>19</th>\n",
       "      <td>60.0</td>\n",
       "      <td>1</td>\n",
       "      <td>15286.624204</td>\n",
       "      <td>47520</td>\n",
       "      <td>0.0</td>\n",
       "      <td>1.0</td>\n",
       "      <td>0.0</td>\n",
       "      <td>0.0</td>\n",
       "      <td>0.0</td>\n",
       "      <td>0.0</td>\n",
       "      <td>...</td>\n",
       "      <td>0.0</td>\n",
       "      <td>0.0</td>\n",
       "      <td>0.0</td>\n",
       "      <td>0.0</td>\n",
       "      <td>0.0</td>\n",
       "      <td>0.0</td>\n",
       "      <td>0.0</td>\n",
       "      <td>0.0</td>\n",
       "      <td>0.0</td>\n",
       "      <td>0.0</td>\n",
       "    </tr>\n",
       "    <tr>\n",
       "      <th>18</th>\n",
       "      <td>90.0</td>\n",
       "      <td>1</td>\n",
       "      <td>142038.216561</td>\n",
       "      <td>47520</td>\n",
       "      <td>0.0</td>\n",
       "      <td>1.0</td>\n",
       "      <td>0.0</td>\n",
       "      <td>0.0</td>\n",
       "      <td>0.0</td>\n",
       "      <td>0.0</td>\n",
       "      <td>...</td>\n",
       "      <td>0.0</td>\n",
       "      <td>0.0</td>\n",
       "      <td>0.0</td>\n",
       "      <td>0.0</td>\n",
       "      <td>0.0</td>\n",
       "      <td>0.0</td>\n",
       "      <td>0.0</td>\n",
       "      <td>0.0</td>\n",
       "      <td>0.0</td>\n",
       "      <td>0.0</td>\n",
       "    </tr>\n",
       "    <tr>\n",
       "      <th>17</th>\n",
       "      <td>120.0</td>\n",
       "      <td>2</td>\n",
       "      <td>57324.840764</td>\n",
       "      <td>47520</td>\n",
       "      <td>0.0</td>\n",
       "      <td>1.0</td>\n",
       "      <td>0.0</td>\n",
       "      <td>0.0</td>\n",
       "      <td>0.0</td>\n",
       "      <td>0.0</td>\n",
       "      <td>...</td>\n",
       "      <td>0.0</td>\n",
       "      <td>0.0</td>\n",
       "      <td>0.0</td>\n",
       "      <td>0.0</td>\n",
       "      <td>0.0</td>\n",
       "      <td>0.0</td>\n",
       "      <td>0.0</td>\n",
       "      <td>0.0</td>\n",
       "      <td>0.0</td>\n",
       "      <td>0.0</td>\n",
       "    </tr>\n",
       "  </tbody>\n",
       "</table>\n",
       "<p>5 rows × 220 columns</p>\n",
       "</div>"
      ],
      "text/plain": [
       "    scheduled_delivery_period  quantity          price  order_date_est    0  \\\n",
       "0                       210.0         1   38394.904459               0  0.0   \n",
       "20                       60.0         1  134394.904459           47520  0.0   \n",
       "19                       60.0         1   15286.624204           47520  0.0   \n",
       "18                       90.0         1  142038.216561           47520  0.0   \n",
       "17                      120.0         2   57324.840764           47520  0.0   \n",
       "\n",
       "      1    2    3    4    5  ...  206  207  208  209  210  211  212  213  214  \\\n",
       "0   0.0  0.0  0.0  0.0  0.0  ...  0.0  0.0  0.0  0.0  0.0  0.0  0.0  0.0  0.0   \n",
       "20  1.0  0.0  0.0  0.0  0.0  ...  0.0  0.0  0.0  0.0  0.0  0.0  0.0  0.0  0.0   \n",
       "19  1.0  0.0  0.0  0.0  0.0  ...  0.0  0.0  0.0  0.0  0.0  0.0  0.0  0.0  0.0   \n",
       "18  1.0  0.0  0.0  0.0  0.0  ...  0.0  0.0  0.0  0.0  0.0  0.0  0.0  0.0  0.0   \n",
       "17  1.0  0.0  0.0  0.0  0.0  ...  0.0  0.0  0.0  0.0  0.0  0.0  0.0  0.0  0.0   \n",
       "\n",
       "    215  \n",
       "0   0.0  \n",
       "20  0.0  \n",
       "19  0.0  \n",
       "18  0.0  \n",
       "17  0.0  \n",
       "\n",
       "[5 rows x 220 columns]"
      ]
     },
     "execution_count": 30,
     "metadata": {},
     "output_type": "execute_result"
    }
   ],
   "source": [
    "df_enc = df[['scheduled_delivery_period', 'quantity', 'price', 'order_date_est']].join(encoder_df)\n",
    "df_enc.head()"
   ]
  },
  {
   "cell_type": "code",
   "execution_count": 31,
   "id": "741e5d88",
   "metadata": {},
   "outputs": [],
   "source": [
    "X, y = df_enc.drop(columns='price'), df_enc.price"
   ]
  },
  {
   "cell_type": "code",
   "execution_count": 32,
   "id": "ad03541a",
   "metadata": {},
   "outputs": [],
   "source": [
    "X_train, X_test, y_train, y_test = train_test_split(X, y, test_size=0.3)"
   ]
  },
  {
   "cell_type": "code",
   "execution_count": 33,
   "id": "770cf555",
   "metadata": {},
   "outputs": [
    {
     "data": {
      "text/plain": [
       "135.60457526918182"
      ]
     },
     "execution_count": 33,
     "metadata": {},
     "output_type": "execute_result"
    }
   ],
   "source": [
    "xgb = xg.XGBRegressor(objective='reg:squarederror', n_estimators=10)\n",
    "xgb.fit(X_train, y_train)\n",
    "y_pred = xgb.predict(X_test)\n",
    "test_ratios = y_pred / y_test\n",
    "\n",
    "np.sqrt(MSE(np.ones(len(test_ratios)), test_ratios))"
   ]
  },
  {
   "cell_type": "code",
   "execution_count": 34,
   "id": "c164f2ef",
   "metadata": {},
   "outputs": [
    {
     "data": {
      "text/plain": [
       "551.9288790663921"
      ]
     },
     "execution_count": 34,
     "metadata": {},
     "output_type": "execute_result"
    }
   ],
   "source": [
    "xgb = xg.XGBRegressor()\n",
    "xgb.fit(X_train, y_train)\n",
    "y_pred = xgb.predict(X_test)\n",
    "test_ratios = y_pred / y_test\n",
    "\n",
    "np.sqrt(MSE(np.ones(len(test_ratios)), test_ratios))"
   ]
  },
  {
   "cell_type": "code",
   "execution_count": 35,
   "id": "521ea475",
   "metadata": {},
   "outputs": [
    {
     "data": {
      "text/plain": [
       "135.60457526918182"
      ]
     },
     "execution_count": 35,
     "metadata": {},
     "output_type": "execute_result"
    }
   ],
   "source": [
    "xgb = xg.XGBRegressor(objective='reg:squarederror', n_estimators=10)\n",
    "xgb.fit(X_train, y_train)\n",
    "y_pred = xgb.predict(X_test)\n",
    "test_ratios = y_pred / y_test\n",
    "\n",
    "np.sqrt(MSE(np.ones(len(test_ratios)), test_ratios))"
   ]
  },
  {
   "cell_type": "code",
   "execution_count": 36,
   "id": "8b90aecc",
   "metadata": {},
   "outputs": [
    {
     "data": {
      "text/plain": [
       "551.9288790663921"
      ]
     },
     "execution_count": 36,
     "metadata": {},
     "output_type": "execute_result"
    }
   ],
   "source": [
    "xgb = xg.XGBRegressor()\n",
    "xgb.fit(X_train, y_train)\n",
    "y_pred = xgb.predict(X_test)\n",
    "test_ratios = y_pred / y_test\n",
    "\n",
    "np.sqrt(MSE(np.ones(len(test_ratios)), test_ratios))"
   ]
  },
  {
   "cell_type": "code",
   "execution_count": 37,
   "id": "95ccb380",
   "metadata": {},
   "outputs": [
    {
     "data": {
      "text/plain": [
       "135.60457526918182"
      ]
     },
     "execution_count": 37,
     "metadata": {},
     "output_type": "execute_result"
    }
   ],
   "source": [
    "xgb = xg.XGBRegressor(objective='reg:squarederror', n_estimators=10)\n",
    "xgb.fit(X_train, y_train)\n",
    "y_pred = xgb.predict(X_test)\n",
    "test_ratios = y_pred / y_test\n",
    "\n",
    "np.sqrt(MSE(np.ones(len(test_ratios)), test_ratios))"
   ]
  },
  {
   "cell_type": "code",
   "execution_count": 38,
   "id": "05123f04",
   "metadata": {},
   "outputs": [
    {
     "data": {
      "text/plain": [
       "551.9288790663921"
      ]
     },
     "execution_count": 38,
     "metadata": {},
     "output_type": "execute_result"
    }
   ],
   "source": [
    "xgb = xg.XGBRegressor()\n",
    "xgb.fit(X_train, y_train)\n",
    "y_pred = xgb.predict(X_test)\n",
    "test_ratios = y_pred / y_test\n",
    "\n",
    "np.sqrt(MSE(np.ones(len(test_ratios)), test_ratios))"
   ]
  }
 ],
 "metadata": {
  "kernelspec": {
   "display_name": "Python 3 (ipykernel)",
   "language": "python",
   "name": "python3"
  },
  "language_info": {
   "codemirror_mode": {
    "name": "ipython",
    "version": 3
   },
   "file_extension": ".py",
   "mimetype": "text/x-python",
   "name": "python",
   "nbconvert_exporter": "python",
   "pygments_lexer": "ipython3",
   "version": "3.9.7"
  },
  "toc": {
   "base_numbering": 1,
   "nav_menu": {},
   "number_sections": true,
   "sideBar": true,
   "skip_h1_title": false,
   "title_cell": "Table of Contents",
   "title_sidebar": "Contents",
   "toc_cell": false,
   "toc_position": {},
   "toc_section_display": true,
   "toc_window_display": true
  },
  "varInspector": {
   "cols": {
    "lenName": 16,
    "lenType": 16,
    "lenVar": 40
   },
   "kernels_config": {
    "python": {
     "delete_cmd_postfix": "",
     "delete_cmd_prefix": "del ",
     "library": "var_list.py",
     "varRefreshCmd": "print(var_dic_list())"
    },
    "r": {
     "delete_cmd_postfix": ") ",
     "delete_cmd_prefix": "rm(",
     "library": "var_list.r",
     "varRefreshCmd": "cat(var_dic_list()) "
    }
   },
   "types_to_exclude": [
    "module",
    "function",
    "builtin_function_or_method",
    "instance",
    "_Feature"
   ],
   "window_display": false
  }
 },
 "nbformat": 4,
 "nbformat_minor": 5
}
